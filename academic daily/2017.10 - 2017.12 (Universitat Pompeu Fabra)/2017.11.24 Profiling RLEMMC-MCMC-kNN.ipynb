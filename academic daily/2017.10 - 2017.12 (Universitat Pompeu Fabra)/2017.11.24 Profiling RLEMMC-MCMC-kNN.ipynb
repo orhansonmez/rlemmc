{
 "cells": [
  {
   "cell_type": "code",
   "execution_count": 1,
   "metadata": {
    "collapsed": true
   },
   "outputs": [],
   "source": [
    "% matplotlib inline\n",
    "import matplotlib.pyplot as plt\n",
    "import numpy as np\n",
    "import math\n",
    "import gym\n",
    "\n",
    "from sklearn.neighbors import KNeighborsClassifier\n"
   ]
  },
  {
   "cell_type": "markdown",
   "metadata": {},
   "source": [
    "# Environment"
   ]
  },
  {
   "cell_type": "markdown",
   "metadata": {},
   "source": [
    "#### Noisy Cart Pole\n",
    "\n",
    "This is the noisy version of the CartPole-v0 environment of OpenAI.  \n",
    "https://gym.openai.com/envs/CartPole-v0  \n",
    "https://github.com/openai/gym/wiki/CartPole-v0  \n"
   ]
  },
  {
   "cell_type": "code",
   "execution_count": 2,
   "metadata": {
    "collapsed": true
   },
   "outputs": [],
   "source": [
    "class NoisyCartPoleEnvironment:\n",
    "    \n",
    "    stateDimension = 4\n",
    "    actionDimension = 1\n",
    "    actionSpace = range(2)\n",
    "    transitionSigmas = [ 1e-2, 1e-5, 1e-2, 1e-5 ]\n",
    "    \n",
    "    def __init__(self):\n",
    "        pass\n",
    "    \n",
    "    def cartpole_reset(self):\n",
    "        state = np.random.uniform(low=-0.05, high=0.05, size=(4,))\n",
    "        return np.array(state)\n",
    "    \n",
    "    # Extracted from OpenAI environment CartPole-v0\n",
    "    def cartpole_step(self, state, action):\n",
    "\n",
    "        gravity = 9.8\n",
    "        masscart = 1.0\n",
    "        masspole = 0.1\n",
    "        total_mass = (masspole + masscart)\n",
    "        length = 0.5 # actually half the pole's length\n",
    "        polemass_length = (masspole * length)\n",
    "        force_mag = 10.0\n",
    "        tau = 0.02  # seconds between state updates\n",
    "\n",
    "        # Angle at which to fail the episode\n",
    "        theta_threshold_radians = 12 * 2 * math.pi / 360\n",
    "        x_threshold = 2.4\n",
    "\n",
    "        x, x_dot, theta, theta_dot = state\n",
    "\n",
    "        already_done =  x < -x_threshold \\\n",
    "            or x > x_threshold \\\n",
    "            or theta < -theta_threshold_radians \\\n",
    "            or theta > theta_threshold_radians\n",
    "        already_done = bool(already_done)\n",
    "\n",
    "        if already_done:\n",
    "\n",
    "            next_state = state\n",
    "            reward = 0\n",
    "            done = True\n",
    "\n",
    "        else:\n",
    "\n",
    "            force = force_mag if action==1 else -force_mag\n",
    "            costheta = math.cos(theta)\n",
    "            sintheta = math.sin(theta)\n",
    "            temp = (force + polemass_length * theta_dot * theta_dot * sintheta) / total_mass\n",
    "            thetaacc = (gravity * sintheta - costheta* temp) / (length * (4.0/3.0 - masspole * costheta * costheta / total_mass))\n",
    "            xacc  = temp - polemass_length * thetaacc * costheta / total_mass\n",
    "            x  = x + tau * x_dot\n",
    "            x_dot = x_dot + tau * xacc\n",
    "            theta = theta + tau * theta_dot\n",
    "            theta_dot = theta_dot + tau * thetaacc\n",
    "            next_state = np.array([x,x_dot,theta,theta_dot])\n",
    "\n",
    "            reward = 1\n",
    "\n",
    "            done =  x < -x_threshold \\\n",
    "                or x > x_threshold \\\n",
    "                or theta < -theta_threshold_radians \\\n",
    "                or theta > theta_threshold_radians\n",
    "            done = bool(done)\n",
    "\n",
    "        return next_state, reward, done, {}\n",
    "    \n",
    "    def noisycartpole_reset(self):\n",
    "        return self.cartpole_reset()\n",
    "\n",
    "    def noisycartpole_step(self, state, action):\n",
    "\n",
    "        next_state_mean, reward, done, info = self.cartpole_step(state, action)   # CartPole Step\n",
    "\n",
    "        noise = np.zeros(self.stateDimension)\n",
    "        if not done:\n",
    "            noise = np.random.randn(self.stateDimension) * self.transitionSigmas        # Adding Noise\n",
    "        next_state = next_state_mean + noise\n",
    "\n",
    "        # logp = multivariate_normal.logpdf(next_state, mean=next_state_mean, cov=np.diagflat(self.transitionSigmas))\n",
    "\n",
    "        return next_state, reward, done, None\n",
    "    \n",
    "    def reset(self):\n",
    "        return self.noisycartpole_reset()\n",
    "    \n",
    "    def step(self, state, action):\n",
    "        return self.noisycartpole_step(state, action)\n",
    "    "
   ]
  },
  {
   "cell_type": "code",
   "execution_count": 3,
   "metadata": {
    "collapsed": true
   },
   "outputs": [],
   "source": [
    "env = NoisyCartPoleEnvironment()"
   ]
  },
  {
   "cell_type": "markdown",
   "metadata": {},
   "source": [
    "# Utility Functions"
   ]
  },
  {
   "cell_type": "code",
   "execution_count": 4,
   "metadata": {
    "collapsed": true
   },
   "outputs": [],
   "source": [
    "def trajectory2tuples(states, actions):\n",
    "\n",
    "    # Dimensions\n",
    "    [sample_count, horizon, state_dimension] = states.shape\n",
    "    [_, _, action_dimension] = actions.shape\n",
    "\n",
    "    # Reshape Inputs and Targets\n",
    "    inputs = np.reshape(states, (sample_count*horizon, state_dimension))\n",
    "    targets = np.reshape(actions, (sample_count*horizon, action_dimension))\n",
    "\n",
    "    return inputs, targets"
   ]
  },
  {
   "cell_type": "code",
   "execution_count": 5,
   "metadata": {
    "collapsed": true
   },
   "outputs": [],
   "source": [
    "def rollout_trajectories(env, policy, horizon, sample_count=1, init=None):\n",
    "\n",
    "    # States and Actions\n",
    "    states = np.zeros((sample_count, horizon, env.stateDimension))\n",
    "    actions = np.zeros((sample_count, horizon, env.actionDimension))\n",
    "    rewards = np.zeros((sample_count, horizon))\n",
    "    \n",
    "    # Sample Trajectories\n",
    "    for t in range(horizon):\n",
    "\n",
    "        # Initialization\n",
    "        if t == 0:\n",
    "            if init is None:\n",
    "                states[:,t,:] = [ env.reset() for i in range(sample_count) ]\n",
    "            else:\n",
    "                states[:,t,:] = init\n",
    "                \n",
    "        # Transition and Reward\n",
    "        else:\n",
    "            for s in range(sample_count):\n",
    "                states[s, t, :], rewards[s,t-1], _1, _2 = env.step(states[s, t-1, :], actions[s, t-1, :])\n",
    "        \n",
    "        actions[:,t,:] = policy.query(states[:, t, :]).reshape(sample_count, env.actionDimension)\n",
    "        \n",
    "    for s in range(sample_count):\n",
    "        _, rewards[s, horizon-1], _1, _2 = env.step(states[s, horizon-1, :], actions[s, horizon-1, :])\n",
    "\n",
    "    return states, actions, rewards"
   ]
  },
  {
   "cell_type": "markdown",
   "metadata": {},
   "source": [
    "# Monte Carlo Sampling Method"
   ]
  },
  {
   "cell_type": "code",
   "execution_count": 9,
   "metadata": {
    "collapsed": true
   },
   "outputs": [],
   "source": [
    "def proposal_prior(_1, _2, _3, policy):\n",
    "    return rollout_trajectories(env, policy, horizon)"
   ]
  },
  {
   "cell_type": "code",
   "execution_count": 35,
   "metadata": {
    "collapsed": true
   },
   "outputs": [],
   "source": [
    "def proposal_prior_cached(_1, _2, _3, policy):\n",
    "    global states_cached, actions_cached, rewards_cached, cache_index\n",
    "    \n",
    "    if np.sum(states_cached) == 0:\n",
    "        states_cached, actions_cached, rewards_cached = \\\n",
    "            rollout_trajectories(env, policy, horizon, sample_count=sample_count + burn_in)\n",
    "    \n",
    "    cache_index +=1\n",
    "    \n",
    "    return states_cached[cache_index,:,:], actions_cached[cache_index,:,:], rewards_cached[cache_index,:]"
   ]
  },
  {
   "cell_type": "code",
   "execution_count": 11,
   "metadata": {
    "collapsed": true
   },
   "outputs": [],
   "source": [
    "def proposal_keepthenprior(states, actions, rewards, policy):\n",
    "    \n",
    "    t = np.random.randint(states.shape[0]+1) -1\n",
    "    \n",
    "    if t < 0:\n",
    "        states, actions, rewards = \\\n",
    "            rollout_trajectories(env, policy, horizon )\n",
    "    else:\n",
    "        states[t:,:], actions[t:,:], rewards[t:] = \\\n",
    "            rollout_trajectories(env, policy, horizon-t, init=states[t])\n",
    "    \n",
    "    return states, actions, rewards "
   ]
  },
  {
   "cell_type": "code",
   "execution_count": 18,
   "metadata": {
    "collapsed": true
   },
   "outputs": [],
   "source": [
    "def mcmc(env, policy, proposal=proposal_prior):\n",
    "    \n",
    "    # States and Actions\n",
    "    states = np.zeros((sample_count + burn_in, horizon, env.stateDimension))\n",
    "    actions = np.zeros((sample_count + burn_in, horizon, env.actionDimension))\n",
    "    rewards = np.zeros((sample_count + burn_in, horizon))\n",
    "\n",
    "    for i in range(sample_count + burn_in):\n",
    "        \n",
    "        if i == 0:\n",
    "            states[i,:,:], actions[i,:,:], rewards[i,:] = \\\n",
    "                rollout_trajectories(env, policy, horizon)\n",
    "        else:\n",
    "            states_candidate, actions_candidate, rewards_candidate = \\\n",
    "                proposal(states[i-1,:,:], actions[i-1,:,:], rewards[i-1,:], policy)\n",
    "                \n",
    "            reward_previous = np.sum(rewards[i-1,:])    \n",
    "            reward_candidate = np.sum(rewards_candidate)\n",
    "\n",
    "            alpha = reward_candidate / reward_previous\n",
    "\n",
    "            if np.random.rand() < alpha:\n",
    "                states[i,:,:] = states_candidate\n",
    "                actions[i,:,:] = actions_candidate\n",
    "                rewards[i,:] = rewards_candidate\n",
    "            else:\n",
    "                states[i,:,:] = states[i-1,:,:]\n",
    "                actions[i,:,:] = actions[i-1,:,:]\n",
    "                rewards[i,:] = rewards[i-1,:]\n",
    "        \n",
    "         # Resampling\n",
    "        index = np.random.choice(range(sample_count), size=policy_sample_count, replace=False)\n",
    "\n",
    "        # Policy Trajectories\n",
    "        states_new = np.zeros((policy_sample_count, horizon, env.stateDimension))\n",
    "        actions_new = np.zeros((policy_sample_count, horizon, env.actionDimension))\n",
    "        rewards_new = np.zeros((policy_sample_count, horizon))\n",
    "        for s in range(policy_sample_count):\n",
    "            states_new[s] = states[index[s] + burn_in, :, :]\n",
    "            actions_new[s] = actions[index[s] + burn_in, :, :]\n",
    "            rewards_new[s] = rewards[index[s] + burn_in, : ]\n",
    "        \n",
    "    return states_new, actions_new, rewards_new"
   ]
  },
  {
   "cell_type": "markdown",
   "metadata": {
    "collapsed": true
   },
   "source": [
    "# Policy"
   ]
  },
  {
   "cell_type": "code",
   "execution_count": 19,
   "metadata": {
    "collapsed": true
   },
   "outputs": [],
   "source": [
    "class SciKitPolicy():\n",
    "\n",
    "    def __init__(self):\n",
    "        raise NotImplementedError()\n",
    "\n",
    "    def query(self, states):\n",
    "        if len(states.shape) == 1:\n",
    "            states = states.reshape(1, -1)\n",
    "        return self.method.predict(states)\n",
    "\n",
    "    def train(self, inputs, targets):\n",
    "        self.method.fit(inputs, targets)\n",
    "\n",
    "    def m_step(self, states, actions):\n",
    "\n",
    "        # States/Actions -> Inputs/Targets\n",
    "        inputs, targets = trajectory2tuples(states, actions)\n",
    "\n",
    "        # Train kNN\n",
    "        self.train(inputs, targets.ravel())"
   ]
  },
  {
   "cell_type": "code",
   "execution_count": 20,
   "metadata": {
    "collapsed": true
   },
   "outputs": [],
   "source": [
    "class KnnPolicyDiscrete(SciKitPolicy):\n",
    "    def __init__(self, k, weights='distance'):\n",
    "        self.method = KNeighborsClassifier(n_neighbors=k, weights=weights, n_jobs=1)"
   ]
  },
  {
   "cell_type": "code",
   "execution_count": 21,
   "metadata": {
    "collapsed": true
   },
   "outputs": [],
   "source": [
    "class UniformPolicyDiscrete():\n",
    "\n",
    "    def __init__(self, choices):\n",
    "        self.choices = choices\n",
    "\n",
    "    def query(self, states):\n",
    "        return np.random.choice(self.choices, size=states.shape[0])"
   ]
  },
  {
   "cell_type": "markdown",
   "metadata": {},
   "source": [
    "# Parameters"
   ]
  },
  {
   "cell_type": "code",
   "execution_count": 22,
   "metadata": {
    "collapsed": true
   },
   "outputs": [],
   "source": [
    "# Environment  \n",
    "horizon = 100\n",
    "\n",
    "# Inference\n",
    "iteration_count = 2\n",
    "sample_count = 1000\n",
    "burn_in = 100\n",
    "\n",
    "# Policy\n",
    "kNearest = 5\n",
    "policy_sample_count = 100\n",
    "selectedPolicy = KnnPolicyDiscrete(kNearest)"
   ]
  },
  {
   "cell_type": "markdown",
   "metadata": {},
   "source": [
    "# RLEMMC"
   ]
  },
  {
   "cell_type": "code",
   "execution_count": 23,
   "metadata": {},
   "outputs": [
    {
     "name": "stdout",
     "output_type": "stream",
     "text": [
      "Iteration 1 - Average Reward : 26.56\n",
      "Iteration 2 - Average Reward : 29.67\n",
      " "
     ]
    }
   ],
   "source": [
    "%%prun\n",
    "iteration_rewards = []\n",
    "\n",
    "for i in range(iteration_count):\n",
    "\n",
    "    if i == 0:\n",
    "        iteration_policy = UniformPolicyDiscrete(env.actionSpace)\n",
    "    else:\n",
    "        iteration_policy = selectedPolicy\n",
    "\n",
    "    # E-Step\n",
    "    [states, actions, rewards] = mcmc(env, iteration_policy)\n",
    "\n",
    "    # M-Step\n",
    "    selectedPolicy.m_step(states, actions)\n",
    "        \n",
    "    # Average Reward\n",
    "    iteration_rewards.append(np.mean(rewards) * horizon)\n",
    "    print( f'Iteration {i+1} - Average Reward : {iteration_rewards[i]}' )"
   ]
  },
  {
   "cell_type": "markdown",
   "metadata": {},
   "source": [
    "# Profiling"
   ]
  },
  {
   "cell_type": "code",
   "execution_count": null,
   "metadata": {
    "collapsed": true
   },
   "outputs": [],
   "source": [
    "%load_ext line_profiler"
   ]
  },
  {
   "cell_type": "code",
   "execution_count": null,
   "metadata": {
    "collapsed": true
   },
   "outputs": [],
   "source": [
    "# %lprun -f mcmc [states, actions, rewards] = mcmc(env, iteration_policy)"
   ]
  },
  {
   "cell_type": "code",
   "execution_count": null,
   "metadata": {
    "collapsed": true
   },
   "outputs": [],
   "source": [
    "# %lprun -f  rollout_trajectories \\\n",
    "#                states_candidate, actions_candidate, rewards_candidate = \\\n",
    "#                proposal_prior(states[0,:,:], actions[0,:,:], rewards[0,:], iteration_policy)"
   ]
  },
  {
   "cell_type": "code",
   "execution_count": 30,
   "metadata": {},
   "outputs": [
    {
     "name": "stdout",
     "output_type": "stream",
     "text": [
      "Wall time: 41.2 s\n"
     ]
    }
   ],
   "source": [
    "%time [states, actions, rewards] = mcmc(env, iteration_policy, proposal=proposal_prior)"
   ]
  },
  {
   "cell_type": "code",
   "execution_count": 31,
   "metadata": {
    "collapsed": true
   },
   "outputs": [],
   "source": [
    "cache_index = -1\n",
    "states_cached = np.zeros((sample_count + burn_in, horizon, env.stateDimension))\n",
    "actions_cached = np.zeros((sample_count + burn_in, horizon, env.actionDimension))\n",
    "rewards_cached = np.zeros((sample_count + burn_in, horizon))"
   ]
  },
  {
   "cell_type": "code",
   "execution_count": 36,
   "metadata": {},
   "outputs": [
    {
     "name": "stdout",
     "output_type": "stream",
     "text": [
      "Wall time: 1.16 s\n"
     ]
    }
   ],
   "source": [
    "%time [states, actions, rewards] = mcmc(env, iteration_policy, proposal=proposal_prior_cached)"
   ]
  },
  {
   "cell_type": "code",
   "execution_count": 37,
   "metadata": {},
   "outputs": [
    {
     "name": "stdout",
     "output_type": "stream",
     "text": [
      "Wall time: 18.6 s\n"
     ]
    }
   ],
   "source": [
    "%time [states, actions, rewards] = mcmc(env, iteration_policy, proposal=proposal_keepthenprior)"
   ]
  }
 ],
 "metadata": {
  "kernelspec": {
   "display_name": "Python 3",
   "language": "python",
   "name": "python3"
  },
  "language_info": {
   "codemirror_mode": {
    "name": "ipython",
    "version": 3
   },
   "file_extension": ".py",
   "mimetype": "text/x-python",
   "name": "python",
   "nbconvert_exporter": "python",
   "pygments_lexer": "ipython3",
   "version": "3.6.3"
  }
 },
 "nbformat": 4,
 "nbformat_minor": 2
}
