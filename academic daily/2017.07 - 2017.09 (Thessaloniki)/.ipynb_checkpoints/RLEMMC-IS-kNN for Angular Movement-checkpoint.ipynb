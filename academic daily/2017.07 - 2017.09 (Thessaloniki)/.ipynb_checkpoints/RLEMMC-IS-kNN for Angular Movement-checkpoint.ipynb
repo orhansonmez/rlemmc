{
 "cells": [
  {
   "cell_type": "code",
   "execution_count": 1,
   "metadata": {
    "collapsed": false
   },
   "outputs": [],
   "source": [
    "% matplotlib inline\n",
    "import matplotlib.pyplot as plt\n",
    "import numpy as np\n",
    "from sklearn.neighbors import KNeighborsRegressor\n",
    "import math"
   ]
  },
  {
   "cell_type": "code",
   "execution_count": 2,
   "metadata": {
    "collapsed": true
   },
   "outputs": [],
   "source": [
    "class AngularMovement:\n",
    "\n",
    "    stateDimension = 2\n",
    "    actionDimension = 1\n",
    "\n",
    "    def __init__(self, sigma_init=0.2, sigma_transition=0.2, sigma_reward=1, target=[5, 5]):\n",
    "        self.initSigma = sigma_init\n",
    "        self.transitionSigma = sigma_transition\n",
    "        self.rewardSigma = sigma_reward\n",
    "        self.targetState = target\n",
    "\n",
    "    def init(self):\n",
    "        return np.random.randn(self.stateDimension) * self.initSigma\n",
    "\n",
    "    def transition(self, state, action):\n",
    "        angle = action * 2 * math.pi\n",
    "        x = state[0] + math.cos(angle) + np.random.randn() * self.transitionSigma\n",
    "        y = state[1] + math.sin(angle) + np.random.randn() * self.transitionSigma\n",
    "\n",
    "        return [x,y]\n",
    "\n",
    "    def reward(self, states, _):\n",
    "        if len(states.shape) == 1:\n",
    "            states = states.reshape(1, -1)\n",
    "        return math.exp(-sum((states[-1,:] - self.targetState) ** 2)/(2*self.rewardSigma**2))\n",
    "\n",
    "    def step(self, state, action):\n",
    "\n",
    "        next_state = self.transition(state, action)\n",
    "        reward = self.reward(state, action)\n",
    "\n",
    "        return next_state, reward, False, None\n",
    "\n",
    "    def reset(self):\n",
    "        return self.init()"
   ]
  },
  {
   "cell_type": "code",
   "execution_count": 3,
   "metadata": {
    "collapsed": false
   },
   "outputs": [],
   "source": [
    "# Environment  \n",
    "horizon = 10\n",
    "env = AngularMovement()"
   ]
  },
  {
   "cell_type": "code",
   "execution_count": 4,
   "metadata": {
    "collapsed": true
   },
   "outputs": [],
   "source": [
    "# Importance Sampling\n",
    "def importance_sampling(states, actions, rewards, policy_sample_count=0):\n",
    "\n",
    "    # Dimensions\n",
    "    [sample_count, horizon, state_dimension] = states.shape\n",
    "    [_, _, action_dimension] = actions.shape\n",
    "\n",
    "    if policy_sample_count <= 0:\n",
    "        policy_sample_count = sample_count\n",
    "\n",
    "    # Weighting\n",
    "    if sum(rewards) == 0:\n",
    "        weights = np.ones(sample_count) / sample_count\n",
    "    else:\n",
    "        weights = rewards / sum(rewards)\n",
    "\n",
    "    # Resampling\n",
    "    index = np.random.choice(range(sample_count), size=policy_sample_count, p=weights, replace=True)\n",
    "\n",
    "    # New Trajectories\n",
    "    states_new = np.zeros((policy_sample_count, horizon, state_dimension))\n",
    "    actions_new = np.zeros((policy_sample_count, horizon, action_dimension))\n",
    "    for s in range(policy_sample_count):\n",
    "        states_new[s] = states[index[s], :, :]\n",
    "        actions_new[s] = actions[index[s], :, :]\n",
    "\n",
    "    return [states_new, actions_new]"
   ]
  },
  {
   "cell_type": "code",
   "execution_count": 5,
   "metadata": {
    "collapsed": true
   },
   "outputs": [],
   "source": [
    "# Inference\n",
    "sampleCount = 1000\n",
    "iterationCount = 200\n",
    "selectedInference = importance_sampling"
   ]
  },
  {
   "cell_type": "code",
   "execution_count": 6,
   "metadata": {
    "collapsed": true
   },
   "outputs": [],
   "source": [
    "def extract_trajectory(states, actions):\n",
    "\n",
    "    # Dimensions\n",
    "    [sample_count, horizon, state_dimension] = states.shape\n",
    "    [_, _, action_dimension] = actions.shape\n",
    "\n",
    "    # Reshape Inputs and Targets\n",
    "    inputs = np.reshape(states, (sample_count*horizon, state_dimension))\n",
    "    targets = np.reshape(actions, (sample_count*horizon, action_dimension))\n",
    "\n",
    "    return inputs, targets"
   ]
  },
  {
   "cell_type": "code",
   "execution_count": 7,
   "metadata": {
    "collapsed": false
   },
   "outputs": [],
   "source": [
    "class SciKitPolicy():\n",
    "\n",
    "    def __init__(self):\n",
    "        raise NotImplementedError()\n",
    "\n",
    "    def query(self, states):\n",
    "        if len(states.shape) == 1:\n",
    "            states = states.reshape(1, -1)\n",
    "        return self.method.predict(states)\n",
    "\n",
    "    def train(self, inputs, targets):\n",
    "        self.method.fit(inputs, targets)\n",
    "\n",
    "    def m_step(self, states, actions):\n",
    "\n",
    "        # States/Actions -> Inputs/Targets\n",
    "        inputs, targets = extract_trajectory(states, actions)\n",
    "\n",
    "        # Train kNN\n",
    "        self.train(inputs, targets.ravel())\n",
    "\n",
    "\n",
    "class KnnPolicyContinuous(SciKitPolicy):\n",
    "    def __init__(self, k, weights='distance'):\n",
    "        self.method = KNeighborsRegressor(n_neighbors=k, weights=weights, n_jobs=1)"
   ]
  },
  {
   "cell_type": "code",
   "execution_count": 8,
   "metadata": {
    "collapsed": false
   },
   "outputs": [],
   "source": [
    "class UniformPolicyContinuous():\n",
    "\n",
    "    def __init__(self, bounds=[0,1]):\n",
    "        self.min = bounds[0]      # Min Action Value\n",
    "        self.max = bounds[1]      # Max Action Value\n",
    "\n",
    "    def query(self, _):\n",
    "        return self.min + np.random.random() * (self.min - self.max)"
   ]
  },
  {
   "cell_type": "code",
   "execution_count": 9,
   "metadata": {
    "collapsed": false
   },
   "outputs": [],
   "source": [
    "# Policy\n",
    "kNearest = 5\n",
    "selectedPolicy = KnnPolicyContinuous(kNearest)"
   ]
  },
  {
   "cell_type": "code",
   "execution_count": 10,
   "metadata": {
    "collapsed": true
   },
   "outputs": [],
   "source": [
    "def plot_trajectories(states, color='red'):\n",
    "\n",
    "    [sample_count, _, _] = states.shape\n",
    "\n",
    "    for s in range(sample_count):\n",
    "        plt.plot(states[s, :, 0], states[s, :, 1], '-', color=color)\n",
    "        plt.plot(states[s, :, 0], states[s, :, 1], 'o', color=color)\n",
    "        plt.plot(states[s, -1, 0], states[s, -1, 1], 'o', color=color)"
   ]
  },
  {
   "cell_type": "code",
   "execution_count": 11,
   "metadata": {
    "collapsed": true
   },
   "outputs": [],
   "source": [
    "def plot_iteration(states, newStates):\n",
    "    plot_trajectories(states, color='red')\n",
    "    plot_trajectories(newStates, color='green')\n",
    "    plt.plot(env.targetState[0], env.targetState[1], 'o', color='blue', markersize=20)\n",
    "    plt.grid()\n",
    "    plt.show()"
   ]
  },
  {
   "cell_type": "code",
   "execution_count": 12,
   "metadata": {
    "collapsed": true
   },
   "outputs": [],
   "source": [
    "def rollout_trajectories(env, policy, horizon, sample_count=1):\n",
    "\n",
    "    # States and Actions\n",
    "    states = np.zeros((sample_count, horizon, env.stateDimension))\n",
    "    actions = np.zeros((sample_count, horizon, env.actionDimension))\n",
    "    rewards = np.zeros((sample_count, horizon))\n",
    "\n",
    "    # Sample Trajectories\n",
    "    for s in range(sample_count):\n",
    "        for t in range(horizon):\n",
    "\n",
    "            # Initialization\n",
    "            if t == 0:\n",
    "                states[s,t,:] = env.reset()\n",
    "            # Transition and Reward\n",
    "            else:\n",
    "                states[s, t, :], rewards[s,t-1], _1, _2 = env.step(states[s, t-1, :], actions[s, t-1, :])\n",
    "\n",
    "            # Action Selection\n",
    "            actions[s, t, :] = policy.query(states[s, t, :])\n",
    "\n",
    "        _, rewards[s, horizon-1], _1, _2 = env.step(states[s, horizon-1, :], actions[s, horizon-1, :])\n",
    "\n",
    "    return states, actions, rewards"
   ]
  },
  {
   "cell_type": "code",
   "execution_count": 13,
   "metadata": {
    "collapsed": false
   },
   "outputs": [
    {
     "name": "stdout",
     "output_type": "stream",
     "text": [
      "Iteration 1 - Average Reward : 0.0019306802547577949\n",
      "Iteration 2 - Average Reward : 0.0366900213050291\n",
      "Iteration 3 - Average Reward : 0.07805666261801582\n",
      "Iteration 4 - Average Reward : 0.159440844470803\n",
      "Iteration 5 - Average Reward : 0.24648165093778102\n",
      "Iteration 6 - Average Reward : 0.30012657690173333\n",
      "Iteration 7 - Average Reward : 0.3474083373730955\n",
      "Iteration 8 - Average Reward : 0.37576892916344273\n",
      "Iteration 9 - Average Reward : 0.4042096811465615\n",
      "Iteration 10 - Average Reward : 0.40958207135563895\n",
      "Iteration 11 - Average Reward : 0.45508872245750626\n",
      "Iteration 12 - Average Reward : 0.44083557865066414\n",
      "Iteration 13 - Average Reward : 0.4510867553447488\n",
      "Iteration 14 - Average Reward : 0.45710065817147594\n",
      "Iteration 15 - Average Reward : 0.46517784300388326\n",
      "Iteration 16 - Average Reward : 0.46002034394146096\n",
      "Iteration 17 - Average Reward : 0.4506621637492906\n",
      "Iteration 18 - Average Reward : 0.46765119321023474\n",
      "Iteration 19 - Average Reward : 0.49341093727655105\n",
      "Iteration 20 - Average Reward : 0.4761666123716901\n",
      "Iteration 21 - Average Reward : 0.49704805556613835\n",
      "Iteration 22 - Average Reward : 0.482757073795382\n",
      "Iteration 23 - Average Reward : 0.502305506737067\n",
      "Iteration 24 - Average Reward : 0.4918023911543197\n",
      "Iteration 25 - Average Reward : 0.5132760020167058\n",
      "Iteration 26 - Average Reward : 0.48731809077084626\n",
      "Iteration 27 - Average Reward : 0.5394150418259787\n",
      "Iteration 28 - Average Reward : 0.5369566666679277\n",
      "Iteration 29 - Average Reward : 0.5164372794756966\n",
      "Iteration 30 - Average Reward : 0.5361705688928771\n",
      "Iteration 31 - Average Reward : 0.5386018993643381\n",
      "Iteration 32 - Average Reward : 0.549253261589404\n",
      "Iteration 33 - Average Reward : 0.5227868254817254\n",
      "Iteration 34 - Average Reward : 0.518465295486333\n",
      "Iteration 35 - Average Reward : 0.5385928442548941\n",
      "Iteration 36 - Average Reward : 0.5514016171722842\n",
      "Iteration 37 - Average Reward : 0.5409853215484893\n",
      "Iteration 38 - Average Reward : 0.5335883683569144\n",
      "Iteration 39 - Average Reward : 0.54791746391215\n",
      "Iteration 40 - Average Reward : 0.5411147604484247\n",
      "Iteration 41 - Average Reward : 0.5368066434335493\n",
      "Iteration 42 - Average Reward : 0.5404756620706326\n",
      "Iteration 43 - Average Reward : 0.5266051843851771\n",
      "Iteration 44 - Average Reward : 0.533857259324056\n",
      "Iteration 45 - Average Reward : 0.5250759648652911\n",
      "Iteration 46 - Average Reward : 0.5540214259173494\n",
      "Iteration 47 - Average Reward : 0.5499534978654915\n",
      "Iteration 48 - Average Reward : 0.5469854327629785\n",
      "Iteration 49 - Average Reward : 0.5345485128994207\n",
      "Iteration 50 - Average Reward : 0.5249078284418204\n",
      "Iteration 51 - Average Reward : 0.5142712983269562\n",
      "Iteration 52 - Average Reward : 0.5255863161365021\n",
      "Iteration 53 - Average Reward : 0.543587808450171\n",
      "Iteration 54 - Average Reward : 0.536760784579934\n",
      "Iteration 55 - Average Reward : 0.5331403752321233\n",
      "Iteration 56 - Average Reward : 0.5373982521062273\n",
      "Iteration 57 - Average Reward : 0.5573710484601732\n",
      "Iteration 58 - Average Reward : 0.5217411766691389\n",
      "Iteration 59 - Average Reward : 0.5385324554457879\n",
      "Iteration 60 - Average Reward : 0.543875625857581\n",
      "Iteration 61 - Average Reward : 0.5356349494455142\n",
      "Iteration 62 - Average Reward : 0.5386474273623552\n",
      "Iteration 63 - Average Reward : 0.5336464376228021\n",
      "Iteration 64 - Average Reward : 0.5359608486936941\n",
      "Iteration 65 - Average Reward : 0.5346482622677547\n",
      "Iteration 66 - Average Reward : 0.534128359073233\n",
      "Iteration 67 - Average Reward : 0.5409835382540819\n",
      "Iteration 68 - Average Reward : 0.548865956178264\n",
      "Iteration 69 - Average Reward : 0.5352645770373368\n",
      "Iteration 70 - Average Reward : 0.5338345747871054\n",
      "Iteration 71 - Average Reward : 0.5320335674418564\n",
      "Iteration 72 - Average Reward : 0.5429473928722377\n",
      "Iteration 73 - Average Reward : 0.5345751788211769\n",
      "Iteration 74 - Average Reward : 0.533938990817085\n",
      "Iteration 75 - Average Reward : 0.5455368447740757\n",
      "Iteration 76 - Average Reward : 0.5523132981892334\n",
      "Iteration 77 - Average Reward : 0.5442281282555097\n",
      "Iteration 78 - Average Reward : 0.5452076265406829\n",
      "Iteration 79 - Average Reward : 0.5526944327138192\n",
      "Iteration 80 - Average Reward : 0.5515009906751559\n",
      "Iteration 81 - Average Reward : 0.5401510660784128\n",
      "Iteration 82 - Average Reward : 0.5548810116910232\n",
      "Iteration 83 - Average Reward : 0.5538527164714804\n",
      "Iteration 84 - Average Reward : 0.5498801220502483\n",
      "Iteration 85 - Average Reward : 0.5446493334371033\n",
      "Iteration 86 - Average Reward : 0.5621653594951191\n",
      "Iteration 87 - Average Reward : 0.5566003586508064\n",
      "Iteration 88 - Average Reward : 0.5516025051068242\n",
      "Iteration 89 - Average Reward : 0.5622540076358707\n",
      "Iteration 90 - Average Reward : 0.5606473513808679\n",
      "Iteration 91 - Average Reward : 0.5664559541373542\n",
      "Iteration 92 - Average Reward : 0.5833166362526051\n",
      "Iteration 93 - Average Reward : 0.5657041366505855\n",
      "Iteration 94 - Average Reward : 0.5483398325319246\n",
      "Iteration 95 - Average Reward : 0.5678283480509664\n",
      "Iteration 96 - Average Reward : 0.5643831196436342\n",
      "Iteration 97 - Average Reward : 0.5869278129826256\n",
      "Iteration 98 - Average Reward : 0.5705312006034435\n",
      "Iteration 99 - Average Reward : 0.573010180736028\n",
      "Iteration 100 - Average Reward : 0.5824643827116128\n",
      "Iteration 101 - Average Reward : 0.5722424637112036\n",
      "Iteration 102 - Average Reward : 0.5598022351919932\n",
      "Iteration 103 - Average Reward : 0.5844320614677594\n",
      "Iteration 104 - Average Reward : 0.5742413844739243\n",
      "Iteration 105 - Average Reward : 0.5792150124563976\n",
      "Iteration 106 - Average Reward : 0.5733463450969718\n",
      "Iteration 107 - Average Reward : 0.5902483419859004\n",
      "Iteration 108 - Average Reward : 0.5908470009607252\n",
      "Iteration 109 - Average Reward : 0.5860573684398326\n",
      "Iteration 110 - Average Reward : 0.5773505979220976\n",
      "Iteration 111 - Average Reward : 0.5900308307658078\n",
      "Iteration 112 - Average Reward : 0.5925559164607189\n",
      "Iteration 113 - Average Reward : 0.6021745656746432\n",
      "Iteration 114 - Average Reward : 0.5890204755055012\n",
      "Iteration 115 - Average Reward : 0.6091071066548311\n",
      "Iteration 116 - Average Reward : 0.6084819349878793\n",
      "Iteration 117 - Average Reward : 0.5917805195181063\n",
      "Iteration 118 - Average Reward : 0.5871535230234706\n",
      "Iteration 119 - Average Reward : 0.6085550694590508\n",
      "Iteration 120 - Average Reward : 0.5994670540761102\n",
      "Iteration 121 - Average Reward : 0.5979493797791755\n",
      "Iteration 122 - Average Reward : 0.6003623461377856\n",
      "Iteration 123 - Average Reward : 0.6081557593611215\n",
      "Iteration 124 - Average Reward : 0.6056209094186104\n",
      "Iteration 125 - Average Reward : 0.6030882122229805\n",
      "Iteration 126 - Average Reward : 0.6058296824133238\n",
      "Iteration 127 - Average Reward : 0.6141219178020684\n",
      "Iteration 128 - Average Reward : 0.6100189294597753\n",
      "Iteration 129 - Average Reward : 0.61143738192579\n",
      "Iteration 130 - Average Reward : 0.6016678951505696\n",
      "Iteration 131 - Average Reward : 0.6087029297594869\n",
      "Iteration 132 - Average Reward : 0.6180923610124597\n",
      "Iteration 133 - Average Reward : 0.6120081248632876\n",
      "Iteration 134 - Average Reward : 0.6130586767077837\n",
      "Iteration 135 - Average Reward : 0.6204240262888668\n",
      "Iteration 136 - Average Reward : 0.6201736661145925\n",
      "Iteration 137 - Average Reward : 0.618875071274032\n",
      "Iteration 138 - Average Reward : 0.6147267806547042\n",
      "Iteration 139 - Average Reward : 0.611562929479136\n",
      "Iteration 140 - Average Reward : 0.6086404625966793\n",
      "Iteration 141 - Average Reward : 0.6182621017217186\n",
      "Iteration 142 - Average Reward : 0.6274517648328011\n",
      "Iteration 143 - Average Reward : 0.6096160871659556\n",
      "Iteration 144 - Average Reward : 0.6090615728961559\n",
      "Iteration 145 - Average Reward : 0.6238488269265209\n",
      "Iteration 146 - Average Reward : 0.6339583398235222\n",
      "Iteration 147 - Average Reward : 0.6326872201808389\n",
      "Iteration 148 - Average Reward : 0.6283304501039381\n",
      "Iteration 149 - Average Reward : 0.6321998596412252\n",
      "Iteration 150 - Average Reward : 0.6293461952904826\n",
      "Iteration 151 - Average Reward : 0.6278833106647379\n",
      "Iteration 152 - Average Reward : 0.6414300059765937\n",
      "Iteration 153 - Average Reward : 0.6404222875144705\n",
      "Iteration 154 - Average Reward : 0.6303867711243745\n",
      "Iteration 155 - Average Reward : 0.6365223858699621\n",
      "Iteration 156 - Average Reward : 0.6248442557261389\n",
      "Iteration 157 - Average Reward : 0.6218245049806874\n",
      "Iteration 158 - Average Reward : 0.6379291120196167\n",
      "Iteration 159 - Average Reward : 0.6475828127421407\n",
      "Iteration 160 - Average Reward : 0.6156355128686105\n",
      "Iteration 161 - Average Reward : 0.6201732617556799\n",
      "Iteration 162 - Average Reward : 0.6426350595574059\n",
      "Iteration 163 - Average Reward : 0.6471621037034693\n",
      "Iteration 164 - Average Reward : 0.6431028019353985\n",
      "Iteration 165 - Average Reward : 0.6288849189592154\n",
      "Iteration 166 - Average Reward : 0.6336801129787686\n",
      "Iteration 167 - Average Reward : 0.6302554775340324\n",
      "Iteration 168 - Average Reward : 0.6266003425268123\n",
      "Iteration 169 - Average Reward : 0.6538068844860013\n",
      "Iteration 170 - Average Reward : 0.6564057413410451\n",
      "Iteration 171 - Average Reward : 0.6524389395571217\n",
      "Iteration 172 - Average Reward : 0.6355537132266174\n",
      "Iteration 173 - Average Reward : 0.6359597710866435\n",
      "Iteration 174 - Average Reward : 0.6391494568324207\n",
      "Iteration 175 - Average Reward : 0.6408481629633018\n",
      "Iteration 176 - Average Reward : 0.6455761457721095\n",
      "Iteration 177 - Average Reward : 0.6500030980898901\n",
      "Iteration 178 - Average Reward : 0.6495090915552243\n",
      "Iteration 179 - Average Reward : 0.6491370051829108\n",
      "Iteration 180 - Average Reward : 0.65256970970368\n",
      "Iteration 181 - Average Reward : 0.6396426065506673\n",
      "Iteration 182 - Average Reward : 0.6521593699126614\n",
      "Iteration 183 - Average Reward : 0.641774779612028\n",
      "Iteration 184 - Average Reward : 0.6463491197780261\n",
      "Iteration 185 - Average Reward : 0.6461269807204947\n",
      "Iteration 186 - Average Reward : 0.6390152133438848\n",
      "Iteration 187 - Average Reward : 0.6588188654721933\n",
      "Iteration 188 - Average Reward : 0.6444973001842639\n",
      "Iteration 189 - Average Reward : 0.6494289731492168\n",
      "Iteration 190 - Average Reward : 0.6470098003172712\n",
      "Iteration 191 - Average Reward : 0.6502165699897243\n",
      "Iteration 192 - Average Reward : 0.648018714125306\n",
      "Iteration 193 - Average Reward : 0.650344784188125\n",
      "Iteration 194 - Average Reward : 0.6543444162212618\n",
      "Iteration 195 - Average Reward : 0.6429409304183307\n",
      "Iteration 196 - Average Reward : 0.6525711563074847\n",
      "Iteration 197 - Average Reward : 0.6435666354333976\n",
      "Iteration 198 - Average Reward : 0.6519935410162427\n",
      "Iteration 199 - Average Reward : 0.6537960893434588\n",
      "Iteration 200 - Average Reward : 0.6561215016973378\n"
     ]
    }
   ],
   "source": [
    "iterationRewards = []\n",
    "\n",
    "for i in range(iterationCount):\n",
    "\n",
    "    if i == 0:\n",
    "        iterationPolicy = UniformPolicyContinuous()\n",
    "    else:\n",
    "        iterationPolicy = selectedPolicy\n",
    "\n",
    "    [states, actions, rewards] = \\\n",
    "        rollout_trajectories(env, iterationPolicy, horizon, sampleCount)\n",
    "\n",
    "    # E-Step\n",
    "    [newStates, newActions] = selectedInference(states, actions, rewards[:,-1])\n",
    "\n",
    "    # M-Step\n",
    "    selectedPolicy.m_step(newStates, newActions)\n",
    "    \n",
    "    # Plot Trajectories\n",
    "    # plot_iteration(states, newStates)\n",
    "    \n",
    "    # Average Reward\n",
    "    iterationRewards.append(np.mean(rewards[:,-1]))\n",
    "    print( f'Iteration {i+1} - Average Reward : {iterationRewards[i]}' )"
   ]
  },
  {
   "cell_type": "code",
   "execution_count": 14,
   "metadata": {
    "collapsed": false
   },
   "outputs": [
    {
     "data": {
      "image/png": "[encoded data removed]",
      "text/plain": [
       "<matplotlib.figure.Figure at 0x19a6361d4e0>"
      ]
     },
     "metadata": {},
     "output_type": "display_data"
    }
   ],
   "source": [
    "plt.plot(iterationRewards)\n",
    "plt.show()"
   ]
  },
  {
   "cell_type": "code",
   "execution_count": 15,
   "metadata": {
    "collapsed": false
   },
   "outputs": [
    {
     "data": {
      "image/png": "[encoded data removed]",
      "text/plain": [
       "<matplotlib.figure.Figure at 0x19a6378f390>"
      ]
     },
     "metadata": {},
     "output_type": "display_data"
    }
   ],
   "source": [
    "plot_iteration(states,newStates)"
   ]
  }
 ],
 "metadata": {
  "kernelspec": {
   "display_name": "Python 3",
   "language": "python",
   "name": "python3"
  },
  "language_info": {
   "codemirror_mode": {
    "name": "ipython",
    "version": 3
   },
   "file_extension": ".py",
   "mimetype": "text/x-python",
   "name": "python",
   "nbconvert_exporter": "python",
   "pygments_lexer": "ipython3",
   "version": "3.6.0"
  }
 },
 "nbformat": 4,
 "nbformat_minor": 2
}
