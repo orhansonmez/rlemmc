{
 "cells": [
  {
   "cell_type": "code",
   "execution_count": 1,
   "metadata": {
    "collapsed": true
   },
   "outputs": [],
   "source": [
    "% matplotlib inline\n",
    "import numpy as np\n",
    "import matplotlib.pyplot as plt\n",
    "\n",
    "from sklearn.neighbors import KNeighborsClassifier"
   ]
  },
  {
   "cell_type": "code",
   "execution_count": 2,
   "metadata": {
    "collapsed": false
   },
   "outputs": [],
   "source": [
    "class OneNN:\n",
    "    \n",
    "    def __init__(self):\n",
    "        pass\n",
    "\n",
    "    def query(self, states):\n",
    "        actions = []\n",
    "        for i in range(states.shape[0]):\n",
    "            actions.append(self.actions[np.argmin(np.abs(np.sum((self.states - states[i,:]) ** 2,axis=1)))])\n",
    "        return actions\n",
    "    \n",
    "    def train(self, inputs, targets):\n",
    "        self.states = inputs\n",
    "        self.actions = targets\n",
    "\n",
    "    def m_step(self, states, actions):\n",
    "\n",
    "        # States/Actions -> Inputs/Targets\n",
    "        inputs, targets = extract_trajectory(states, actions)\n",
    "\n",
    "        # Train kNN\n",
    "        self.train(inputs, targets.ravel())"
   ]
  },
  {
   "cell_type": "code",
   "execution_count": 3,
   "metadata": {
    "collapsed": false
   },
   "outputs": [],
   "source": [
    "# Training Set\n",
    "sampleCount = 20\n",
    "states = np.random.randn(sampleCount,2)\n",
    "actions = 1 * (np.sum(states,axis=1) > 0)"
   ]
  },
  {
   "cell_type": "code",
   "execution_count": 4,
   "metadata": {
    "collapsed": false
   },
   "outputs": [],
   "source": [
    "# Training\n",
    "p = OneNN()\n",
    "p.train(states, actions)\n",
    "actions_predicted = p.query(states)"
   ]
  },
  {
   "cell_type": "code",
   "execution_count": 5,
   "metadata": {
    "collapsed": false
   },
   "outputs": [],
   "source": [
    "# Testing\n",
    "M = 100\n",
    "X = np.random.randn(M,2)\n",
    "Y = 1 * (np.sum(X,axis=1) > 0)\n",
    "A = p.query(X)"
   ]
  },
  {
   "cell_type": "code",
   "execution_count": 6,
   "metadata": {
    "collapsed": false
   },
   "outputs": [
    {
     "data": {
      "image/png": "[encoded data removed]",
      "text/plain": [
       "<matplotlib.figure.Figure at 0x15731f8f278>"
      ]
     },
     "metadata": {},
     "output_type": "display_data"
    },
    {
     "name": "stdout",
     "output_type": "stream",
     "text": [
      "Training Set Perfomance = 1.0\n",
      "Test Set Perfomance = 0.91\n"
     ]
    }
   ],
   "source": [
    "# Plot\n",
    "plt.scatter(states[:,0], states[:,1], c=actions, s=100, marker='s')\n",
    "plt.scatter(X[:,0], X[:,1], c=A, s=10, marker='o')\n",
    "plt.grid()\n",
    "plt.show()\n",
    "\n",
    "# Evaluation\n",
    "print(f'Training Set Perfomance = {sum(1*(actions == actions_predicted)) / sampleCount}')\n",
    "print(f'Test Set Perfomance = {sum(1*(A == Y)) / M}')"
   ]
  }
 ],
 "metadata": {
  "kernelspec": {
   "display_name": "Python 3",
   "language": "python",
   "name": "python3"
  },
  "language_info": {
   "codemirror_mode": {
    "name": "ipython",
    "version": 3
   },
   "file_extension": ".py",
   "mimetype": "text/x-python",
   "name": "python",
   "nbconvert_exporter": "python",
   "pygments_lexer": "ipython3",
   "version": "3.6.0"
  }
 },
 "nbformat": 4,
 "nbformat_minor": 2
}
