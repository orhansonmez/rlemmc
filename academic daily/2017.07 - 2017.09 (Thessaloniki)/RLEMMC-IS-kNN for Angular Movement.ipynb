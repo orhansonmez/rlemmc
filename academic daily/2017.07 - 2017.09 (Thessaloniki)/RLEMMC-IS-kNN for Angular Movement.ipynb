{
 "cells": [
  {
   "cell_type": "code",
   "execution_count": 1,
   "metadata": {
    "collapsed": false
   },
   "outputs": [],
   "source": [
    "% matplotlib inline\n",
    "import matplotlib.pyplot as plt\n",
    "import numpy as np\n",
    "import math\n",
    "from sklearn.neighbors import KNeighborsRegressor"
   ]
  },
  {
   "cell_type": "markdown",
   "metadata": {},
   "source": [
    "# Environment"
   ]
  },
  {
   "cell_type": "markdown",
   "metadata": {},
   "source": [
    "#### Angular Movement Environment\n",
    "\n",
    "The agents aims to reach to a target position in a 2D space only by making unit length movements (with noise) starting from an (also noisy) initial position.\n",
    "\n",
    "The policy $\\pi$ maps the state of the agent $x_t$ to an action (angle) $a_t \\in [0..2\\pi]$.\n",
    "\n",
    "Note: The environment is compatible with OpenAI."
   ]
  },
  {
   "cell_type": "code",
   "execution_count": 2,
   "metadata": {
    "collapsed": true
   },
   "outputs": [],
   "source": [
    "class AngularMovement:\n",
    "\n",
    "    stateDimension = 2\n",
    "    actionDimension = 1\n",
    "\n",
    "    def __init__(self, sigma_init=0.2, sigma_transition=0.2, sigma_reward=1, target=[5, 5]):\n",
    "        self.initSigma = sigma_init\n",
    "        self.transitionSigma = sigma_transition\n",
    "        self.rewardSigma = sigma_reward\n",
    "        self.targetState = target\n",
    "\n",
    "    def init(self):\n",
    "        return np.random.randn(self.stateDimension) * self.initSigma\n",
    "\n",
    "    def transition(self, state, action):\n",
    "        angle = action * 2 * math.pi\n",
    "        x = state[0] + math.cos(angle) + np.random.randn() * self.transitionSigma\n",
    "        y = state[1] + math.sin(angle) + np.random.randn() * self.transitionSigma\n",
    "\n",
    "        return [x,y]\n",
    "\n",
    "    def reward(self, states, _):\n",
    "        if len(states.shape) == 1:\n",
    "            states = states.reshape(1, -1)\n",
    "        return math.exp(-sum((states[-1,:] - self.targetState) ** 2)/(2*self.rewardSigma**2))\n",
    "\n",
    "    def step(self, state, action):\n",
    "\n",
    "        next_state = self.transition(state, action)\n",
    "        reward = self.reward(state, action)\n",
    "\n",
    "        return next_state, reward, False, None\n",
    "\n",
    "    def reset(self):\n",
    "        return self.init()"
   ]
  },
  {
   "cell_type": "markdown",
   "metadata": {},
   "source": [
    "# Utility Functions"
   ]
  },
  {
   "cell_type": "code",
   "execution_count": 3,
   "metadata": {
    "collapsed": true
   },
   "outputs": [],
   "source": [
    "def trajectory2tuples(states, actions):\n",
    "\n",
    "    # Dimensions\n",
    "    [sample_count, horizon, state_dimension] = states.shape\n",
    "    [_, _, action_dimension] = actions.shape\n",
    "\n",
    "    # Reshape Inputs and Targets\n",
    "    inputs = np.reshape(states, (sample_count*horizon, state_dimension))\n",
    "    targets = np.reshape(actions, (sample_count*horizon, action_dimension))\n",
    "\n",
    "    return inputs, targets"
   ]
  },
  {
   "cell_type": "code",
   "execution_count": 4,
   "metadata": {
    "collapsed": true
   },
   "outputs": [],
   "source": [
    "def plot_trajectories(states, color='red'):\n",
    "\n",
    "    [sample_count, _, _] = states.shape\n",
    "\n",
    "    for s in range(sample_count):\n",
    "        plt.plot(states[s, :, 0], states[s, :, 1], '-', color=color)\n",
    "        plt.plot(states[s, :, 0], states[s, :, 1], 'o', color=color)\n",
    "        plt.plot(states[s, -1, 0], states[s, -1, 1], 'o', color=color)"
   ]
  },
  {
   "cell_type": "code",
   "execution_count": 5,
   "metadata": {
    "collapsed": true
   },
   "outputs": [],
   "source": [
    "def plot_iteration(states, newStates):\n",
    "    plot_trajectories(states, color='red')\n",
    "    plot_trajectories(newStates, color='green')\n",
    "    plt.plot(env.targetState[0], env.targetState[1], 'o', color='blue', markersize=20)\n",
    "    plt.grid()\n",
    "    plt.show()"
   ]
  },
  {
   "cell_type": "code",
   "execution_count": 6,
   "metadata": {
    "collapsed": true
   },
   "outputs": [],
   "source": [
    "def rollout_trajectories(env, policy, horizon, sample_count=1):\n",
    "\n",
    "    # States and Actions\n",
    "    states = np.zeros((sample_count, horizon, env.stateDimension))\n",
    "    actions = np.zeros((sample_count, horizon, env.actionDimension))\n",
    "    rewards = np.zeros((sample_count, horizon))\n",
    "\n",
    "    # Sample Trajectories\n",
    "    for s in range(sample_count):\n",
    "        for t in range(horizon):\n",
    "\n",
    "            # Initialization\n",
    "            if t == 0:\n",
    "                states[s,t,:] = env.reset()\n",
    "            # Transition and Reward\n",
    "            else:\n",
    "                states[s, t, :], rewards[s,t-1], _1, _2 = env.step(states[s, t-1, :], actions[s, t-1, :])\n",
    "\n",
    "            # Action Selection\n",
    "            actions[s, t, :] = policy.query(states[s, t, :])\n",
    "\n",
    "        _, rewards[s, horizon-1], _1, _2 = env.step(states[s, horizon-1, :], actions[s, horizon-1, :])\n",
    "\n",
    "    return states, actions, rewards"
   ]
  },
  {
   "cell_type": "markdown",
   "metadata": {},
   "source": [
    "# Monte Carlo Sampling Method"
   ]
  },
  {
   "cell_type": "code",
   "execution_count": 7,
   "metadata": {
    "collapsed": true
   },
   "outputs": [],
   "source": [
    "def importance_sampling(states, actions, rewards, policy_sample_count=0):\n",
    "\n",
    "    # Dimensions\n",
    "    [sample_count, horizon, state_dimension] = states.shape\n",
    "    [_, _, action_dimension] = actions.shape\n",
    "\n",
    "    if policy_sample_count <= 0:\n",
    "        policy_sample_count = sample_count\n",
    "\n",
    "    # Weighting\n",
    "    if sum(rewards) == 0:\n",
    "        weights = np.ones(sample_count) / sample_count\n",
    "    else:\n",
    "        weights = rewards / sum(rewards)\n",
    "\n",
    "    # Resampling\n",
    "    index = np.random.choice(range(sample_count), size=policy_sample_count, p=weights, replace=True)\n",
    "\n",
    "    # New Trajectories\n",
    "    states_new = np.zeros((policy_sample_count, horizon, state_dimension))\n",
    "    actions_new = np.zeros((policy_sample_count, horizon, action_dimension))\n",
    "    for s in range(policy_sample_count):\n",
    "        states_new[s] = states[index[s], :, :]\n",
    "        actions_new[s] = actions[index[s], :, :]\n",
    "\n",
    "    return [states_new, actions_new]"
   ]
  },
  {
   "cell_type": "markdown",
   "metadata": {
    "collapsed": true
   },
   "source": [
    "# Policy"
   ]
  },
  {
   "cell_type": "code",
   "execution_count": 8,
   "metadata": {
    "collapsed": false
   },
   "outputs": [],
   "source": [
    "class SciKitPolicy():\n",
    "\n",
    "    def __init__(self):\n",
    "        raise NotImplementedError()\n",
    "\n",
    "    def query(self, states):\n",
    "        if len(states.shape) == 1:\n",
    "            states = states.reshape(1, -1)\n",
    "        return self.method.predict(states)\n",
    "\n",
    "    def train(self, inputs, targets):\n",
    "        self.method.fit(inputs, targets)\n",
    "\n",
    "    def m_step(self, states, actions):\n",
    "\n",
    "        # States/Actions -> Inputs/Targets\n",
    "        inputs, targets = trajectory2tuples(states, actions)\n",
    "\n",
    "        # Train kNN\n",
    "        self.train(inputs, targets.ravel())"
   ]
  },
  {
   "cell_type": "code",
   "execution_count": 9,
   "metadata": {
    "collapsed": true
   },
   "outputs": [],
   "source": [
    "class KnnPolicyContinuous(SciKitPolicy):\n",
    "    def __init__(self, k, weights='distance'):\n",
    "        self.method = KNeighborsRegressor(n_neighbors=k, weights=weights, n_jobs=1)"
   ]
  },
  {
   "cell_type": "code",
   "execution_count": 10,
   "metadata": {
    "collapsed": false
   },
   "outputs": [],
   "source": [
    "class UniformPolicyContinuous():\n",
    "\n",
    "    def __init__(self, bounds=[0,1]):\n",
    "        self.min = bounds[0]      # Min Action Value\n",
    "        self.max = bounds[1]      # Max Action Value\n",
    "\n",
    "    def query(self, _):\n",
    "        return self.min + np.random.random() * (self.min - self.max)"
   ]
  },
  {
   "cell_type": "markdown",
   "metadata": {},
   "source": [
    "# Parameters"
   ]
  },
  {
   "cell_type": "code",
   "execution_count": 11,
   "metadata": {
    "collapsed": false
   },
   "outputs": [],
   "source": [
    "# Environment  \n",
    "horizon = 10\n",
    "env = AngularMovement()\n",
    "\n",
    "# Inference\n",
    "sampleCount = 2000\n",
    "iterationCount = 100\n",
    "selectedInference = importance_sampling\n",
    "\n",
    "# Policy\n",
    "kNearest = 5\n",
    "selectedPolicy = KnnPolicyContinuous(kNearest)\n",
    "policySampleCount = 100"
   ]
  },
  {
   "cell_type": "markdown",
   "metadata": {},
   "source": [
    "# RLEMMC"
   ]
  },
  {
   "cell_type": "code",
   "execution_count": 12,
   "metadata": {
    "collapsed": false
   },
   "outputs": [
    {
     "name": "stdout",
     "output_type": "stream",
     "text": [
      "Iteration 1 - Average Reward : 0.0016495850770830525\n",
      "Iteration 2 - Average Reward : 0.008365745293347366\n",
      "Iteration 3 - Average Reward : 0.0410486995467491\n",
      "Iteration 4 - Average Reward : 0.06537037616869688\n",
      "Iteration 5 - Average Reward : 0.11557826222208306\n",
      "Iteration 6 - Average Reward : 0.160946405988933\n",
      "Iteration 7 - Average Reward : 0.1806939849683962\n",
      "Iteration 8 - Average Reward : 0.23524743663423014\n",
      "Iteration 9 - Average Reward : 0.2710487464456953\n",
      "Iteration 10 - Average Reward : 0.3000563193132097\n",
      "Iteration 11 - Average Reward : 0.30418845932899896\n",
      "Iteration 12 - Average Reward : 0.32618340499044246\n",
      "Iteration 13 - Average Reward : 0.33567529794587425\n",
      "Iteration 14 - Average Reward : 0.32142147780071834\n",
      "Iteration 15 - Average Reward : 0.3421573261339828\n",
      "Iteration 16 - Average Reward : 0.3110095260779994\n",
      "Iteration 17 - Average Reward : 0.334984283051276\n",
      "Iteration 18 - Average Reward : 0.333975286534323\n",
      "Iteration 19 - Average Reward : 0.3425478201890478\n",
      "Iteration 20 - Average Reward : 0.36311026710213684\n",
      "Iteration 21 - Average Reward : 0.3441310243924578\n",
      "Iteration 22 - Average Reward : 0.32978178497922017\n",
      "Iteration 23 - Average Reward : 0.34438077423375757\n",
      "Iteration 24 - Average Reward : 0.37062716755907693\n",
      "Iteration 25 - Average Reward : 0.36029067298229117\n",
      "Iteration 26 - Average Reward : 0.3622793795010741\n",
      "Iteration 27 - Average Reward : 0.3497754736532064\n",
      "Iteration 28 - Average Reward : 0.346880318111475\n",
      "Iteration 29 - Average Reward : 0.34922850680094\n",
      "Iteration 30 - Average Reward : 0.37169207335057114\n",
      "Iteration 31 - Average Reward : 0.3522097267301935\n",
      "Iteration 32 - Average Reward : 0.3589727662772182\n",
      "Iteration 33 - Average Reward : 0.3366371345799696\n",
      "Iteration 34 - Average Reward : 0.3387938706221952\n",
      "Iteration 35 - Average Reward : 0.31829406309330693\n",
      "Iteration 36 - Average Reward : 0.35486158148038316\n",
      "Iteration 37 - Average Reward : 0.34772414029617926\n",
      "Iteration 38 - Average Reward : 0.33537012910072134\n",
      "Iteration 39 - Average Reward : 0.34331971335454214\n",
      "Iteration 40 - Average Reward : 0.36239682543181817\n",
      "Iteration 41 - Average Reward : 0.3290723519213026\n",
      "Iteration 42 - Average Reward : 0.340217082786133\n",
      "Iteration 43 - Average Reward : 0.31832144614465707\n",
      "Iteration 44 - Average Reward : 0.32981055390236225\n",
      "Iteration 45 - Average Reward : 0.34232908732040496\n",
      "Iteration 46 - Average Reward : 0.3456291135486916\n",
      "Iteration 47 - Average Reward : 0.3296268463975475\n",
      "Iteration 48 - Average Reward : 0.3264564897775022\n",
      "Iteration 49 - Average Reward : 0.3356603023948685\n",
      "Iteration 50 - Average Reward : 0.32639474406632385\n",
      "Iteration 51 - Average Reward : 0.30349657363440147\n",
      "Iteration 52 - Average Reward : 0.32431010622667106\n",
      "Iteration 53 - Average Reward : 0.32138704914327193\n",
      "Iteration 54 - Average Reward : 0.31723889748937883\n",
      "Iteration 55 - Average Reward : 0.2939286779645437\n",
      "Iteration 56 - Average Reward : 0.320605599312512\n",
      "Iteration 57 - Average Reward : 0.3301616755101947\n",
      "Iteration 58 - Average Reward : 0.3092250614211788\n",
      "Iteration 59 - Average Reward : 0.3079641384373483\n",
      "Iteration 60 - Average Reward : 0.28646555711014254\n",
      "Iteration 61 - Average Reward : 0.2868188355128022\n",
      "Iteration 62 - Average Reward : 0.3031001051782455\n",
      "Iteration 63 - Average Reward : 0.29114666806433315\n",
      "Iteration 64 - Average Reward : 0.2935540406766754\n",
      "Iteration 65 - Average Reward : 0.2772540237047107\n",
      "Iteration 66 - Average Reward : 0.30332189279305966\n",
      "Iteration 67 - Average Reward : 0.28143833526700973\n",
      "Iteration 68 - Average Reward : 0.27019268246689976\n",
      "Iteration 69 - Average Reward : 0.26641355534075317\n",
      "Iteration 70 - Average Reward : 0.27786439641730637\n",
      "Iteration 71 - Average Reward : 0.2573155291483074\n",
      "Iteration 72 - Average Reward : 0.2437237543767157\n",
      "Iteration 73 - Average Reward : 0.2666122953118154\n",
      "Iteration 74 - Average Reward : 0.2579401495514518\n",
      "Iteration 75 - Average Reward : 0.26018358180573575\n",
      "Iteration 76 - Average Reward : 0.25554285243676944\n",
      "Iteration 77 - Average Reward : 0.2521361737540861\n",
      "Iteration 78 - Average Reward : 0.2512249217970258\n",
      "Iteration 79 - Average Reward : 0.24812720943813676\n",
      "Iteration 80 - Average Reward : 0.2683426727943778\n",
      "Iteration 81 - Average Reward : 0.26602261716762143\n",
      "Iteration 82 - Average Reward : 0.26401152963814045\n",
      "Iteration 83 - Average Reward : 0.2479975676502838\n",
      "Iteration 84 - Average Reward : 0.25181850665860334\n",
      "Iteration 85 - Average Reward : 0.2534928137804627\n",
      "Iteration 86 - Average Reward : 0.2521872838023878\n",
      "Iteration 87 - Average Reward : 0.23582815160071083\n",
      "Iteration 88 - Average Reward : 0.25997515534028254\n",
      "Iteration 89 - Average Reward : 0.24679791243817395\n",
      "Iteration 90 - Average Reward : 0.2404375390533717\n",
      "Iteration 91 - Average Reward : 0.22458126039693685\n",
      "Iteration 92 - Average Reward : 0.22219135558314143\n",
      "Iteration 93 - Average Reward : 0.23164857137522346\n",
      "Iteration 94 - Average Reward : 0.22046109023672936\n",
      "Iteration 95 - Average Reward : 0.21846657515884915\n",
      "Iteration 96 - Average Reward : 0.2206467243115689\n",
      "Iteration 97 - Average Reward : 0.232217852008771\n",
      "Iteration 98 - Average Reward : 0.20347380571596288\n",
      "Iteration 99 - Average Reward : 0.21920644081742874\n",
      "Iteration 100 - Average Reward : 0.20151919719343842\n"
     ]
    }
   ],
   "source": [
    "iterationRewards = []\n",
    "\n",
    "for i in range(iterationCount):\n",
    "\n",
    "    if i == 0:\n",
    "        iterationPolicy = UniformPolicyContinuous()\n",
    "    else:\n",
    "        iterationPolicy = selectedPolicy\n",
    "\n",
    "    [states, actions, rewards] = \\\n",
    "        rollout_trajectories(env, iterationPolicy, horizon, sampleCount)\n",
    "\n",
    "    # E-Step\n",
    "    [newStates, newActions] = selectedInference(states, actions, rewards[:,-1], policySampleCount)\n",
    "\n",
    "    # M-Step\n",
    "    selectedPolicy.m_step(newStates, newActions)\n",
    "    \n",
    "    # Plot Trajectories\n",
    "    # plot_iteration(states, newStates)\n",
    "    \n",
    "    # Average Reward\n",
    "    iterationRewards.append(np.mean(rewards[:,-1]))\n",
    "    print( f'Iteration {i+1} - Average Reward : {iterationRewards[i]}' )"
   ]
  },
  {
   "cell_type": "markdown",
   "metadata": {},
   "source": [
    "# Plots"
   ]
  },
  {
   "cell_type": "code",
   "execution_count": 13,
   "metadata": {
    "collapsed": false
   },
   "outputs": [
    {
     "data": {
      "image/png": "[encoded data removed]",
      "text/plain": [
       "<matplotlib.figure.Figure at 0x2acecbfda20>"
      ]
     },
     "metadata": {},
     "output_type": "display_data"
    }
   ],
   "source": [
    "plt.plot(iterationRewards)\n",
    "plt.show()"
   ]
  },
  {
   "cell_type": "code",
   "execution_count": 14,
   "metadata": {
    "collapsed": false
   },
   "outputs": [
    {
     "data": {
      "image/png": "[encoded data removed]",
      "text/plain": [
       "<matplotlib.figure.Figure at 0x2acecbfdda0>"
      ]
     },
     "metadata": {},
     "output_type": "display_data"
    }
   ],
   "source": [
    "plot_iteration(states,newStates)"
   ]
  }
 ],
 "metadata": {
  "kernelspec": {
   "display_name": "Python 3",
   "language": "python",
   "name": "python3"
  },
  "language_info": {
   "codemirror_mode": {
    "name": "ipython",
    "version": 3
   },
   "file_extension": ".py",
   "mimetype": "text/x-python",
   "name": "python",
   "nbconvert_exporter": "python",
   "pygments_lexer": "ipython3",
   "version": "3.6.0"
  }
 },
 "nbformat": 4,
 "nbformat_minor": 2
}
