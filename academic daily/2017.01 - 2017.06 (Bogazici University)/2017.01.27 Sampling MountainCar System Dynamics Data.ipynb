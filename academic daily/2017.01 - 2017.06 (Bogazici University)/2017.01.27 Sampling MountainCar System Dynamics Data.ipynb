{
 "cells": [
  {
   "cell_type": "code",
   "execution_count": 1,
   "metadata": {
    "collapsed": true
   },
   "outputs": [],
   "source": [
    "import gym\n",
    "import numpy as np"
   ]
  },
  {
   "cell_type": "code",
   "execution_count": 43,
   "metadata": {
    "collapsed": false
   },
   "outputs": [
    {
     "name": "stderr",
     "output_type": "stream",
     "text": [
      "[2017-01-27 13:11:38,264] Making new env: MountainCar-v0\n"
     ]
    }
   ],
   "source": [
    "env = gym.make('MountainCar-v0')"
   ]
  },
  {
   "cell_type": "code",
   "execution_count": 44,
   "metadata": {
    "collapsed": true
   },
   "outputs": [],
   "source": [
    "sampleCount = 10000"
   ]
  },
  {
   "cell_type": "code",
   "execution_count": 45,
   "metadata": {
    "collapsed": false
   },
   "outputs": [],
   "source": [
    "dynamics = []\n",
    "\n",
    "for i in range(sampleCount):\n",
    "    position = np.random.uniform(env.min_position,env.max_position)\n",
    "    speed = np.random.uniform(0,env.max_speed)\n",
    "    action = np.random.randint(0,env.action_space.n)\n",
    "\n",
    "    state = [position,speed]\n",
    "\n",
    "    env.state = state\n",
    "    observation, _, _, _ = env.step(action)\n",
    "\n",
    "    point_dynamics = [list(state),action,list(observation)]\n",
    "    dynamics.append(point_dynamics)"
   ]
  },
  {
   "cell_type": "markdown",
   "metadata": {},
   "source": [
    "### Data Structure\n",
    "\n",
    "dynamics[i][0] : state (list containing 2 floats)\n",
    "\n",
    "dynamics[i][1] : action (integer)\n",
    "\n",
    "dynamics[i][2] : next_state (list containing 2 floats)\n"
   ]
  },
  {
   "cell_type": "code",
   "execution_count": 46,
   "metadata": {
    "collapsed": false
   },
   "outputs": [],
   "source": [
    "np.save('MountainCar-Dynamics-Sampled',dynamics)"
   ]
  }
 ],
 "metadata": {
  "kernelspec": {
   "display_name": "Python 3",
   "language": "python",
   "name": "python3"
  },
  "language_info": {
   "codemirror_mode": {
    "name": "ipython",
    "version": 3
   },
   "file_extension": ".py",
   "mimetype": "text/x-python",
   "name": "python",
   "nbconvert_exporter": "python",
   "pygments_lexer": "ipython3",
   "version": "3.6.0"
  }
 },
 "nbformat": 4,
 "nbformat_minor": 2
}
