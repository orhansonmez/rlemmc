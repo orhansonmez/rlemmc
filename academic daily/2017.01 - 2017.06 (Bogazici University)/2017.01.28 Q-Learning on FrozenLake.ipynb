{
 "cells": [
  {
   "cell_type": "code",
   "execution_count": 1,
   "metadata": {
    "collapsed": true
   },
   "outputs": [],
   "source": [
    "import gym\n",
    "import numpy as np\n",
    "import matplotlib.pyplot as plt"
   ]
  },
  {
   "cell_type": "code",
   "execution_count": 2,
   "metadata": {
    "collapsed": false
   },
   "outputs": [
    {
     "name": "stderr",
     "output_type": "stream",
     "text": [
      "[2017-01-28 20:13:07,254] Making new env: FrozenLake-v0\n"
     ]
    }
   ],
   "source": [
    "env = gym.make('FrozenLake-v0')"
   ]
  },
  {
   "cell_type": "code",
   "execution_count": 12,
   "metadata": {
    "collapsed": true
   },
   "outputs": [],
   "source": [
    "episodes = 1000\n",
    "alpha = 0.8\n",
    "gamma = 0.99"
   ]
  },
  {
   "cell_type": "code",
   "execution_count": 13,
   "metadata": {
    "collapsed": false
   },
   "outputs": [],
   "source": [
    "Q = np.ones((env.nS,env.nA)) / 100\n",
    "R = np.zeros(episodes)"
   ]
  },
  {
   "cell_type": "code",
   "execution_count": 14,
   "metadata": {
    "collapsed": false
   },
   "outputs": [],
   "source": [
    "def selectAction(state):\n",
    "    return np.argmax(Q[state,:])"
   ]
  },
  {
   "cell_type": "code",
   "execution_count": 15,
   "metadata": {
    "collapsed": false
   },
   "outputs": [],
   "source": [
    "for i in range(episodes):\n",
    "    \n",
    "    state = env.reset()\n",
    "\n",
    "\n",
    "    finished = False\n",
    "    while(not finished):\n",
    "\n",
    "        # Action Selection\n",
    "        action = selectAction(state)\n",
    "\n",
    "        # Interaction with Environment\n",
    "        nextState, reward, finished, _ = env.step(action)\n",
    "\n",
    "        # Update Value Function\n",
    "        if not finished:\n",
    "            Q[state,action] +=  alpha * ( reward + gamma * max(Q[nextState]) - Q[state,action])\n",
    "        else:\n",
    "            Q[state,action] +=  alpha * ( reward - Q[state,action] )\n",
    "        \n",
    "        # Update State/Action/Reward\n",
    "        state = nextState\n",
    "        R[i] += reward\n",
    "        "
   ]
  },
  {
   "cell_type": "code",
   "execution_count": 16,
   "metadata": {
    "collapsed": false
   },
   "outputs": [
    {
     "name": "stdout",
     "output_type": "stream",
     "text": [
      "Learned after 122 iterations\n"
     ]
    },
    {
     "data": {
      "image/png": "[encoded data removed]",
      "text/plain": [
       "<matplotlib.figure.Figure at 0x7e9d6b0>"
      ]
     },
     "metadata": {},
     "output_type": "display_data"
    }
   ],
   "source": [
    "learning_goal = 78\n",
    "average_window = 100\n",
    "learned = False\n",
    "\n",
    "rewards_moving_average = []\n",
    "for index in range(episodes):\n",
    "    \n",
    "    if index >= average_window:\n",
    "        start = index-average_window\n",
    "    else:\n",
    "        start = 0\n",
    "    \n",
    "    performance = sum(R[start:index])\n",
    "    rewards_moving_average.append(performance)\n",
    "    \n",
    "    if not learned and performance >= learning_goal:\n",
    "        learned = True\n",
    "        plt.plot([index],[performance],'or',lw=5)\n",
    "        plt.vlines(index,0,performance,linestyle='dotted')\n",
    "        print('Learned after {} iterations'.format(index))\n",
    "        \n",
    "plt.plot(rewards_moving_average)\n",
    "\n",
    "plt.hlines(learning_goal, 0, episodes,linestyle='dotted',color='red')\n",
    "plt.show()"
   ]
  },
  {
   "cell_type": "code",
   "execution_count": null,
   "metadata": {
    "collapsed": true
   },
   "outputs": [],
   "source": []
  }
 ],
 "metadata": {
  "kernelspec": {
   "display_name": "Python 3",
   "language": "python",
   "name": "python3"
  },
  "language_info": {
   "codemirror_mode": {
    "name": "ipython",
    "version": 3
   },
   "file_extension": ".py",
   "mimetype": "text/x-python",
   "name": "python",
   "nbconvert_exporter": "python",
   "pygments_lexer": "ipython3",
   "version": "3.6.0"
  }
 },
 "nbformat": 4,
 "nbformat_minor": 2
}
