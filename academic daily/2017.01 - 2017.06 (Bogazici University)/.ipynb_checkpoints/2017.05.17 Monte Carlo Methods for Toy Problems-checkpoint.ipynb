{
 "cells": [
  {
   "cell_type": "code",
   "execution_count": 1,
   "metadata": {
    "collapsed": false
   },
   "outputs": [],
   "source": [
    "import numpy as np\n",
    "import matplotlib.pyplot as plt"
   ]
  },
  {
   "cell_type": "code",
   "execution_count": 66,
   "metadata": {
    "collapsed": false
   },
   "outputs": [],
   "source": [
    "dimension = 3\n",
    "iteration = 100000"
   ]
  },
  {
   "cell_type": "code",
   "execution_count": 26,
   "metadata": {
    "collapsed": true
   },
   "outputs": [],
   "source": [
    "def fitness(sample):\n",
    "    return sum(sample)"
   ]
  },
  {
   "cell_type": "code",
   "execution_count": 4,
   "metadata": {
    "collapsed": true
   },
   "outputs": [],
   "source": [
    "def proposal(sample):\n",
    "    candidate = list(sample)\n",
    "    candidate[np.random.choice(len(candidate))] = np.random.rand()\n",
    "    return candidate"
   ]
  },
  {
   "cell_type": "code",
   "execution_count": 5,
   "metadata": {
    "collapsed": true
   },
   "outputs": [],
   "source": [
    "def proposal2(sample):\n",
    "    return np.random.rand(len(sample))"
   ]
  },
  {
   "cell_type": "code",
   "execution_count": 6,
   "metadata": {
    "collapsed": true
   },
   "outputs": [],
   "source": [
    "def rejection_sampling(offset):\n",
    "    while(True):\n",
    "        x = np.random.rand()\n",
    "        y = np.random.rand() * (1+offset)\n",
    "        if(y < x+offset):\n",
    "            break\n",
    "    return x"
   ]
  },
  {
   "cell_type": "code",
   "execution_count": 16,
   "metadata": {
    "collapsed": true
   },
   "outputs": [],
   "source": [
    "def gibbs_proposal(sample,d):\n",
    "    candidate = list(sample)\n",
    "    \n",
    "    offset = sum(candidate) - candidate[d]\n",
    "    candidate[d] = rejection_sampling(offset)\n",
    "    \n",
    "    return candidate"
   ]
  },
  {
   "cell_type": "code",
   "execution_count": 8,
   "metadata": {
    "collapsed": true
   },
   "outputs": [],
   "source": [
    "def acceptance(sample, candidate):\n",
    "    return fitness(candidate) / fitness(sample)"
   ]
  },
  {
   "cell_type": "code",
   "execution_count": 9,
   "metadata": {
    "collapsed": false
   },
   "outputs": [],
   "source": [
    "def kernel_mcmc(sample, proposal, acceptance):\n",
    "    \n",
    "    candidate = proposal(sample)\n",
    "    \n",
    "    alpha = acceptance(sample, candidate)\n",
    "    \n",
    "    if np.random.rand() < alpha:\n",
    "        return candidate\n",
    "    else:\n",
    "        return sample"
   ]
  },
  {
   "cell_type": "code",
   "execution_count": 10,
   "metadata": {
    "collapsed": true
   },
   "outputs": [],
   "source": [
    "def plot_samples(samples):\n",
    "    \n",
    "    samples = np.array(samples)\n",
    "\n",
    "    f, axisArray = plt.subplots(1,dimension+1, sharey=True)\n",
    "    f.set_figwidth(20)\n",
    "\n",
    "    axisArray[0].hist(np.sum(samples,axis=1), 50, facecolor='green')\n",
    "    for d in range(dimension):\n",
    "        axisArray[d+1].hist(samples[:,d], 50)\n",
    "\n",
    "    plt.show()"
   ]
  },
  {
   "cell_type": "markdown",
   "metadata": {},
   "source": [
    "### Rejection Sampling"
   ]
  },
  {
   "cell_type": "code",
   "execution_count": 41,
   "metadata": {
    "collapsed": false
   },
   "outputs": [
    {
     "data": {
      "image/png": "[encoded data removed]",
      "text/plain": [
       "<matplotlib.figure.Figure at 0x2dcf87c7320>"
      ]
     },
     "metadata": {},
     "output_type": "display_data"
    }
   ],
   "source": [
    "offset = 1\n",
    "\n",
    "X = []\n",
    "for i in range(iteration):\n",
    "    X.append(rejection_sampling(offset))\n",
    "\n",
    "plt.hist(X,50)\n",
    "plt.show()"
   ]
  },
  {
   "cell_type": "code",
   "execution_count": null,
   "metadata": {
    "collapsed": true
   },
   "outputs": [],
   "source": []
  },
  {
   "cell_type": "code",
   "execution_count": 86,
   "metadata": {
    "collapsed": false
   },
   "outputs": [],
   "source": [
    "iteration = 5\n",
    "samples = np.random.rand(dimension,iteration)\n",
    "weights = np.sum(samples,axis=0) / np.sum(samples)\n",
    "selected = np.random.choice(range(iteration), size=iteration, p=weights, replace=True)\n",
    "\n",
    "samples = samples[:,selected]\n",
    "\n",
    "# plot_samples(samples)\n"
   ]
  },
  {
   "cell_type": "code",
   "execution_count": 87,
   "metadata": {
    "collapsed": false
   },
   "outputs": [
    {
     "data": {
      "text/plain": [
       "array([3, 1, 4, 1, 0])"
      ]
     },
     "execution_count": 87,
     "metadata": {},
     "output_type": "execute_result"
    }
   ],
   "source": [
    "selected"
   ]
  },
  {
   "cell_type": "code",
   "execution_count": 73,
   "metadata": {
    "collapsed": false
   },
   "outputs": [
    {
     "data": {
      "text/plain": [
       "array([20135, 26044, 95103, ..., 36588, 20472, 50872])"
      ]
     },
     "execution_count": 73,
     "metadata": {},
     "output_type": "execute_result"
    }
   ],
   "source": [
    "selected"
   ]
  },
  {
   "cell_type": "code",
   "execution_count": 71,
   "metadata": {
    "collapsed": false
   },
   "outputs": [
    {
     "data": {
      "text/plain": [
       "array([[ 0.71418417,  0.24404302,  0.21082266, ...,  0.80940477,\n",
       "         0.56071866,  0.02881515],\n",
       "       [ 0.50159091,  0.17930665,  0.88733783, ...,  0.83085762,\n",
       "         0.21427067,  0.37028094],\n",
       "       [ 0.56068841,  0.88652048,  0.60466624, ...,  0.6280832 ,\n",
       "         0.75351137,  0.34408926]])"
      ]
     },
     "execution_count": 71,
     "metadata": {},
     "output_type": "execute_result"
    }
   ],
   "source": [
    "samples[:,selected]"
   ]
  },
  {
   "cell_type": "markdown",
   "metadata": {},
   "source": [
    "### Metropolis-Hastings"
   ]
  },
  {
   "cell_type": "code",
   "execution_count": 39,
   "metadata": {
    "collapsed": false
   },
   "outputs": [
    {
     "data": {
      "image/png": "[encoded data removed]",
      "text/plain": [
       "<matplotlib.figure.Figure at 0x2dcf63f33c8>"
      ]
     },
     "metadata": {},
     "output_type": "display_data"
    }
   ],
   "source": [
    "samples = []\n",
    "sample = np.random.rand(dimension)\n",
    "\n",
    "for i in range(iteration):\n",
    "    sample = kernel_mcmc(sample, proposal, acceptance)\n",
    "    samples.append(sample)\n",
    "\n",
    "plot_samples(samples)"
   ]
  },
  {
   "cell_type": "markdown",
   "metadata": {},
   "source": [
    "### Gibbs Sampling"
   ]
  },
  {
   "cell_type": "code",
   "execution_count": 40,
   "metadata": {
    "collapsed": false
   },
   "outputs": [
    {
     "data": {
      "image/png": "[encoded data removed]",
      "text/plain": [
       "<matplotlib.figure.Figure at 0x2dcf63f33c8>"
      ]
     },
     "metadata": {},
     "output_type": "display_data"
    }
   ],
   "source": [
    "samples = []\n",
    "sample = np.random.rand(dimension)\n",
    "\n",
    "for i in range(iteration):\n",
    "    for d in range(dimension):\n",
    "        \n",
    "        sample = gibbs_proposal(sample,d)\n",
    "        samples.append(sample)\n",
    "\n",
    "plot_samples(samples)"
   ]
  },
  {
   "cell_type": "code",
   "execution_count": null,
   "metadata": {
    "collapsed": true
   },
   "outputs": [],
   "source": []
  }
 ],
 "metadata": {
  "kernelspec": {
   "display_name": "Python 3",
   "language": "python",
   "name": "python3"
  },
  "language_info": {
   "codemirror_mode": {
    "name": "ipython",
    "version": 3
   },
   "file_extension": ".py",
   "mimetype": "text/x-python",
   "name": "python",
   "nbconvert_exporter": "python",
   "pygments_lexer": "ipython3",
   "version": "3.6.0"
  }
 },
 "nbformat": 4,
 "nbformat_minor": 2
}
