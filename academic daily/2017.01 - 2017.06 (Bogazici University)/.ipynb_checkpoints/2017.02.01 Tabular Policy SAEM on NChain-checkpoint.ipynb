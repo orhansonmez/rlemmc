{
 "cells": [
  {
   "cell_type": "code",
   "execution_count": 604,
   "metadata": {
    "collapsed": true
   },
   "outputs": [],
   "source": [
    "% matplotlib inline\n",
    "import gym\n",
    "import numpy as np\n",
    "import matplotlib.pyplot as plt"
   ]
  },
  {
   "cell_type": "code",
   "execution_count": 605,
   "metadata": {
    "collapsed": false
   },
   "outputs": [
    {
     "name": "stderr",
     "output_type": "stream",
     "text": [
      "[2017-02-01 17:33:36,888] Making new env: NChain-v0\n"
     ]
    }
   ],
   "source": [
    "env = gym.make('NChain-v0')"
   ]
  },
  {
   "cell_type": "code",
   "execution_count": 768,
   "metadata": {
    "collapsed": false
   },
   "outputs": [],
   "source": [
    "T = 10\n",
    "S = 20\n",
    "I = 100\n",
    "alpha = 0.8\n",
    "epsilon = 0.0\n",
    "epsilonDecay = 0.95"
   ]
  },
  {
   "cell_type": "code",
   "execution_count": 769,
   "metadata": {
    "collapsed": false
   },
   "outputs": [],
   "source": [
    "def actionSelection(policy,state):\n",
    "    \n",
    "    return np.random.choice(env.action_space.n,p=policy[state])\n",
    "    \n",
    "    if np.random.rand() < epsilon:\n",
    "        return np.random.choice(env.action_space.n)\n",
    "    else:\n",
    "        # maxValue = policy[state]\n",
    "        # maxArgs = sum(np.argwhere(policy[state] == maxValue).tolist(),[])\n",
    "        # return np.random.choice(maxArgs)\n",
    "        return np.random.choice(sum(np.argwhere(policy[state] == np.max(policy[state])).tolist(),[]))"
   ]
  },
  {
   "cell_type": "code",
   "execution_count": 770,
   "metadata": {
    "collapsed": false
   },
   "outputs": [],
   "source": [
    "def rollout_trajectory(policy):\n",
    "    \n",
    "    states = np.zeros(T+1, dtype=int)\n",
    "    actions = np.zeros(T, dtype=int)\n",
    "    rewards = np.zeros(T)\n",
    "\n",
    "    states[0] = env.reset()\n",
    "\n",
    "    for t in range(T):\n",
    "\n",
    "        actions[t] = actionSelection(policy,states[t])\n",
    "\n",
    "        states[t+1], rewards[t], _, _ = env.step(actions[t])\n",
    "    \n",
    "    return states, actions, rewards"
   ]
  },
  {
   "cell_type": "code",
   "execution_count": 777,
   "metadata": {
    "collapsed": false
   },
   "outputs": [],
   "source": [
    "episodeRewards = []\n",
    "Q = np.zeros((env.n,env.action_space.n))\n",
    "policy = np.ones((env.n, env.action_space.n)) / env.action_space.n\n",
    "\n",
    "learned = False\n",
    "learnedAt = None\n",
    "\n",
    "for i in range(I):\n",
    "    \n",
    "    episodeReward = 0\n",
    "    Qnew = np.zeros((env.n,env.action_space.n))\n",
    "        \n",
    "    for s in range(S):\n",
    "\n",
    "        states, actions, rewards = rollout_trajectory(policy)\n",
    "\n",
    "        for t in range(len(states)-1):\n",
    "            Qnew[states[t],actions[t]]+= sum(rewards)\n",
    "        \n",
    "        episodeReward += sum(rewards)\n",
    "\n",
    "    Q = (1-alpha) * Q + alpha * Qnew\n",
    "    \n",
    "    policy = Q / Q.sum(axis=1)[:,None]\n",
    "    \n",
    "    if(not learned and min(policy[:,0]) > 0.9 ):\n",
    "        learned = True\n",
    "        learnedAt = i\n",
    "    \n",
    "    episodeRewards.append(episodeReward)\n",
    "    \n",
    "    epsilon *= epsilonDecay"
   ]
  },
  {
   "cell_type": "code",
   "execution_count": 778,
   "metadata": {
    "collapsed": false
   },
   "outputs": [
    {
     "name": "stdout",
     "output_type": "stream",
     "text": [
      "[[  1.00000000e+00   3.83130883e-15]\n",
      " [  1.00000000e+00   2.43533095e-63]\n",
      " [  1.00000000e+00   1.55798649e-62]\n",
      " [  1.00000000e+00   2.26110136e-68]\n",
      " [  1.00000000e+00   6.71738272e-70]]\n"
     ]
    }
   ],
   "source": [
    "print(policy)"
   ]
  },
  {
   "cell_type": "code",
   "execution_count": 779,
   "metadata": {
    "collapsed": false
   },
   "outputs": [
    {
     "name": "stdout",
     "output_type": "stream",
     "text": [
      "Total Reward per Trajectory : 23.284\n"
     ]
    },
    {
     "data": {
      "image/png": "[encoded data removed]",
      "text/plain": [
       "<matplotlib.figure.Figure at 0xa5b3a10>"
      ]
     },
     "metadata": {},
     "output_type": "display_data"
    }
   ],
   "source": [
    "plt.plot(episodeRewards)\n",
    "\n",
    "if learned:\n",
    "    plt.plot([learnedAt],[episodeRewards[learnedAt]],'or',lw=5)\n",
    "    plt.vlines(learnedAt,0,episodeRewards[learnedAt],linestyle='dotted')\n",
    "\n",
    "print(\"Total Reward per Trajectory : {}\".format(sum(episodeRewards) / (I*S)))"
   ]
  },
  {
   "cell_type": "code",
   "execution_count": null,
   "metadata": {
    "collapsed": true
   },
   "outputs": [],
   "source": []
  }
 ],
 "metadata": {
  "kernelspec": {
   "display_name": "Python 3",
   "language": "python",
   "name": "python3"
  },
  "language_info": {
   "codemirror_mode": {
    "name": "ipython",
    "version": 3
   },
   "file_extension": ".py",
   "mimetype": "text/x-python",
   "name": "python",
   "nbconvert_exporter": "python",
   "pygments_lexer": "ipython3",
   "version": "3.6.0"
  }
 },
 "nbformat": 4,
 "nbformat_minor": 2
}
