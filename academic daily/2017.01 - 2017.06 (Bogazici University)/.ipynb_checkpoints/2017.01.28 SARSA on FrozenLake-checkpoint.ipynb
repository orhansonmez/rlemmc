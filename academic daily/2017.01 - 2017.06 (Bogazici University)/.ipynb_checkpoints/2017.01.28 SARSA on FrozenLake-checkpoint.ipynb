{
 "cells": [
  {
   "cell_type": "code",
   "execution_count": 1,
   "metadata": {
    "collapsed": true
   },
   "outputs": [],
   "source": [
    "import gym\n",
    "import numpy as np\n",
    "import matplotlib.pyplot as plt"
   ]
  },
  {
   "cell_type": "code",
   "execution_count": 2,
   "metadata": {
    "collapsed": false
   },
   "outputs": [
    {
     "name": "stderr",
     "output_type": "stream",
     "text": [
      "[2017-01-28 18:20:51,148] Making new env: FrozenLake-v0\n"
     ]
    }
   ],
   "source": [
    "env = gym.make('FrozenLake-v0')"
   ]
  },
  {
   "cell_type": "code",
   "execution_count": 3,
   "metadata": {
    "collapsed": true
   },
   "outputs": [],
   "source": [
    "episodes = 10000\n",
    "alpha = 0.8\n",
    "gamma = 0.999"
   ]
  },
  {
   "cell_type": "code",
   "execution_count": 4,
   "metadata": {
    "collapsed": false
   },
   "outputs": [],
   "source": [
    "Q = np.ones((env.nS,env.nA)) / 100\n",
    "R = np.zeros(episodes)"
   ]
  },
  {
   "cell_type": "code",
   "execution_count": 5,
   "metadata": {
    "collapsed": false
   },
   "outputs": [],
   "source": [
    "def selectAction(state):\n",
    "    return np.argmax(Q[state,:])"
   ]
  },
  {
   "cell_type": "code",
   "execution_count": 6,
   "metadata": {
    "collapsed": false
   },
   "outputs": [],
   "source": [
    "for i in range(episodes):\n",
    "    \n",
    "    state = env.reset()\n",
    "\n",
    "    finished = False\n",
    "    totalReward = 0\n",
    "    nextAction = None\n",
    "    \n",
    "    while(not finished):\n",
    "\n",
    "        # Action Selection\n",
    "        if nextAction is None:\n",
    "            action = selectAction(state)\n",
    "        else:\n",
    "            action = nextAction\n",
    "\n",
    "        # Interaction with Environment\n",
    "        nextState, reward, finished, _ = env.step(action)\n",
    "\n",
    "        # Update Value Function\n",
    "        if not finished:\n",
    "            nextAction = selectAction(nextState)\n",
    "            Q[state,action] +=  alpha * ( reward + gamma * Q[nextState,nextAction]  - Q[state,action])\n",
    "        else:\n",
    "            Q[state,action] +=  alpha * ( reward - Q[state,action] )\n",
    "        \n",
    "        # Update State/Action/Reward\n",
    "        state = nextState\n",
    "        action = nextAction\n",
    "        R[i] += reward\n",
    "        "
   ]
  },
  {
   "cell_type": "code",
   "execution_count": 68,
   "metadata": {
    "collapsed": false
   },
   "outputs": [
    {
     "name": "stdout",
     "output_type": "stream",
     "text": [
      "Learned after 236 iterations\n"
     ]
    },
    {
     "data": {
      "image/png": "[encoded data removed]",
      "text/plain": [
       "<matplotlib.figure.Figure at 0x17f4170>"
      ]
     },
     "metadata": {},
     "output_type": "display_data"
    }
   ],
   "source": [
    "learning_goal = 78\n",
    "average_window = 100\n",
    "learned = False\n",
    "\n",
    "rewards_moving_average = []\n",
    "for index in range(episodes):\n",
    "    \n",
    "    if index >= average_window:\n",
    "        start = index-average_window\n",
    "    else:\n",
    "        start = 0\n",
    "    \n",
    "    performance = sum(R[start:index])\n",
    "    rewards_moving_average.append(performance)\n",
    "    \n",
    "    if not learned and performance >= learning_goal:\n",
    "        learned = True\n",
    "        plt.plot([index],[performance],'or')\n",
    "        plt.vlines(index,0,performance,linestyle='dotted')\n",
    "        print('Learned after {} iterations'.format(index+window))\n",
    "        \n",
    "plt.plot(rewards_moving_average)\n",
    "\n",
    "plt.hlines(learning_goal, 0, episodes,linestyle='dotted',color='red')\n",
    "plt.show()"
   ]
  }
 ],
 "metadata": {
  "kernelspec": {
   "display_name": "Python 3",
   "language": "python",
   "name": "python3"
  },
  "language_info": {
   "codemirror_mode": {
    "name": "ipython",
    "version": 3
   },
   "file_extension": ".py",
   "mimetype": "text/x-python",
   "name": "python",
   "nbconvert_exporter": "python",
   "pygments_lexer": "ipython3",
   "version": "3.6.0"
  }
 },
 "nbformat": 4,
 "nbformat_minor": 2
}
