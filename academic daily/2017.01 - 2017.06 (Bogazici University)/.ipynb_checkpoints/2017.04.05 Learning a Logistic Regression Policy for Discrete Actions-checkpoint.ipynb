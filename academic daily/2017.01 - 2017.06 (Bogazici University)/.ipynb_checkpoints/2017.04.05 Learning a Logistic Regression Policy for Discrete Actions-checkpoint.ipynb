{
 "cells": [
  {
   "cell_type": "code",
   "execution_count": 1,
   "metadata": {
    "collapsed": true
   },
   "outputs": [],
   "source": [
    "% matplotlib inline\n",
    "import matplotlib.pyplot as plt\n",
    "import numpy as np\n",
    "from sklearn import linear_model"
   ]
  },
  {
   "cell_type": "code",
   "execution_count": 2,
   "metadata": {
    "collapsed": true
   },
   "outputs": [],
   "source": [
    "# Training Set\n",
    "sampleCount = 20\n",
    "states = np.random.randn(sampleCount,2)\n",
    "actions = 1 * (np.sum(states,axis=1) > 0)"
   ]
  },
  {
   "cell_type": "code",
   "execution_count": 3,
   "metadata": {
    "collapsed": false
   },
   "outputs": [
    {
     "data": {
      "text/plain": [
       "LogisticRegression(C=1.0, class_weight=None, dual=False, fit_intercept=True,\n",
       "          intercept_scaling=1, max_iter=100, multi_class='ovr', n_jobs=1,\n",
       "          penalty='l2', random_state=None, solver='liblinear', tol=0.0001,\n",
       "          verbose=0, warm_start=False)"
      ]
     },
     "execution_count": 3,
     "metadata": {},
     "output_type": "execute_result"
    }
   ],
   "source": [
    "# Training\n",
    "# logisticRegression = linear_model.LogisticRegression()\n",
    "# logisticRegression.fit(states, actions)\n",
    "p = policy.LogisticRegressionPolicy()\n",
    "p.train(states, actions)"
   ]
  },
  {
   "cell_type": "code",
   "execution_count": 4,
   "metadata": {
    "collapsed": false
   },
   "outputs": [],
   "source": [
    "# Testing\n",
    "M = 100\n",
    "X = np.random.randn(M,2)\n",
    "Y = 1 * (np.sum(X,axis=1) > 0)\n",
    "A = p.query(X)\n",
    "# A = logisticRegression.predict(X)"
   ]
  },
  {
   "cell_type": "code",
   "execution_count": 5,
   "metadata": {
    "collapsed": false
   },
   "outputs": [
    {
     "data": {
      "image/png": "[encoded data removed]",
      "text/plain": [
       "<matplotlib.figure.Figure at 0xdff0296e80>"
      ]
     },
     "metadata": {},
     "output_type": "display_data"
    },
    {
     "name": "stdout",
     "output_type": "stream",
     "text": [
      "Perfomance = 0.97\n"
     ]
    }
   ],
   "source": [
    "# Plot\n",
    "plt.scatter(states[:,0], states[:,1], c=actions, s=100, marker='s')\n",
    "plt.scatter(X[:,0], X[:,1], c=A, s=10, marker='o')\n",
    "plt.grid()\n",
    "plt.show()\n",
    "\n",
    "# Evaluation\n",
    "print(f'Perfomance = {sum(1*(A == Y)) / M}')"
   ]
  }
 ],
 "metadata": {
  "kernelspec": {
   "display_name": "Python 3",
   "language": "python",
   "name": "python3"
  },
  "language_info": {
   "codemirror_mode": {
    "name": "ipython",
    "version": 3
   },
   "file_extension": ".py",
   "mimetype": "text/x-python",
   "name": "python",
   "nbconvert_exporter": "python",
   "pygments_lexer": "ipython3",
   "version": "3.6.0"
  }
 },
 "nbformat": 4,
 "nbformat_minor": 2
}
