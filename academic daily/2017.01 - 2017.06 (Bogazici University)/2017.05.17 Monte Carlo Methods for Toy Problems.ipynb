{
 "cells": [
  {
   "cell_type": "code",
   "execution_count": 1,
   "metadata": {
    "collapsed": false
   },
   "outputs": [],
   "source": [
    "import numpy as np\n",
    "import matplotlib.pyplot as plt"
   ]
  },
  {
   "cell_type": "code",
   "execution_count": 2,
   "metadata": {
    "collapsed": false
   },
   "outputs": [],
   "source": [
    "dimension = 2\n",
    "iteration = 1000\n",
    "burn_in = 100\n",
    "temperatures = [0, 0.2, 0.5, 0.8, 1]"
   ]
  },
  {
   "cell_type": "markdown",
   "metadata": {},
   "source": [
    "### Fitness Functions"
   ]
  },
  {
   "cell_type": "code",
   "execution_count": 3,
   "metadata": {
    "collapsed": true
   },
   "outputs": [],
   "source": [
    "selected_fitness = 'distance'\n",
    "def fitness(sample):\n",
    "    return eval('fitness_' + selected_fitness + '(sample)')"
   ]
  },
  {
   "cell_type": "code",
   "execution_count": 4,
   "metadata": {
    "collapsed": true
   },
   "outputs": [],
   "source": [
    "target = np.ones(dimension) * 0.8\n",
    "sigma = 0.25\n",
    "\n",
    "def fitness_distance(sample):\n",
    "    difference = sample - target\n",
    "    if isinstance(sample, list):\n",
    "        norm = np.linalg.norm(difference)\n",
    "    else:\n",
    "        norm = np.linalg.norm(difference, axis=1)\n",
    "    \n",
    "    return np.e ** (-norm ** 2 / (2 * sigma**2))"
   ]
  },
  {
   "cell_type": "code",
   "execution_count": 5,
   "metadata": {
    "collapsed": false
   },
   "outputs": [],
   "source": [
    "def fitness_sum(sample):\n",
    "    if isinstance(sample, list):\n",
    "        return sum(sample)\n",
    "    else:\n",
    "        return np.sum(sample,axis=1)"
   ]
  },
  {
   "cell_type": "markdown",
   "metadata": {},
   "source": [
    "### Plotting Function"
   ]
  },
  {
   "cell_type": "code",
   "execution_count": 20,
   "metadata": {
    "collapsed": true
   },
   "outputs": [],
   "source": [
    "def plot_samples(samples):\n",
    "\n",
    "    samples_plot = np.array(samples)\n",
    "    \n",
    "    f, axisArray = plt.subplots(1,dimension+1, sharey=True)\n",
    "    f.set_figwidth(20)\n",
    "\n",
    "    axisArray[0].hist(np.sum(samples_plot,axis=1), 50, facecolor='green')\n",
    "    axisArray[0].set_xlim([0,dimension])\n",
    "    for d in range(dimension):\n",
    "        axisArray[d+1].hist(samples_plot[:,d], 50)\n",
    "        axisArray[d+1].set_xlim([0,1])\n",
    "        \n",
    "    plt.show()"
   ]
  },
  {
   "cell_type": "markdown",
   "metadata": {},
   "source": [
    "### Rejection Sampling"
   ]
  },
  {
   "cell_type": "code",
   "execution_count": 7,
   "metadata": {
    "collapsed": true
   },
   "outputs": [],
   "source": [
    "def rejection_sampling(offset):\n",
    "    while(True):\n",
    "        x = np.random.rand()\n",
    "        y = np.random.rand() * (1+offset)\n",
    "        if(y < x+offset):\n",
    "            break\n",
    "    return x"
   ]
  },
  {
   "cell_type": "code",
   "execution_count": 8,
   "metadata": {
    "collapsed": false
   },
   "outputs": [
    {
     "data": {
      "image/png": "[encoded data removed]",
      "text/plain": [
       "<matplotlib.figure.Figure at 0x263b085d898>"
      ]
     },
     "metadata": {},
     "output_type": "display_data"
    }
   ],
   "source": [
    "offset = 1\n",
    "\n",
    "X = []\n",
    "for i in range(iteration):\n",
    "    X.append(rejection_sampling(offset))\n",
    "\n",
    "plt.hist(X,50)\n",
    "plt.show()"
   ]
  },
  {
   "cell_type": "markdown",
   "metadata": {},
   "source": [
    "### Importance Sampling - Resampling"
   ]
  },
  {
   "cell_type": "code",
   "execution_count": 9,
   "metadata": {
    "collapsed": true
   },
   "outputs": [],
   "source": [
    "def resampling(samples, weights, sample_count):\n",
    "    weights_normalized = weights / sum(weights)\n",
    "    selected = np.random.choice(range(len(samples)), size=sample_count, p=weights_normalized, replace=True)\n",
    "    return samples[selected,:]"
   ]
  },
  {
   "cell_type": "code",
   "execution_count": 10,
   "metadata": {
    "collapsed": false
   },
   "outputs": [
    {
     "data": {
      "image/png": "[encoded data removed]",
      "text/plain": [
       "<matplotlib.figure.Figure at 0x263b09248d0>"
      ]
     },
     "metadata": {},
     "output_type": "display_data"
    }
   ],
   "source": [
    "samples = np.random.rand(iteration,dimension)\n",
    "\n",
    "weights = fitness(samples)\n",
    "samples = resampling(samples, weights, iteration)\n",
    "\n",
    "plot_samples(samples)"
   ]
  },
  {
   "cell_type": "markdown",
   "metadata": {},
   "source": [
    "### Proposal Functions"
   ]
  },
  {
   "cell_type": "code",
   "execution_count": 11,
   "metadata": {
    "collapsed": true
   },
   "outputs": [],
   "source": [
    "def proposal_random_mutation(sample):\n",
    "    candidate = list(sample)\n",
    "    candidate[np.random.choice(len(candidate))] = np.random.rand()\n",
    "    return candidate"
   ]
  },
  {
   "cell_type": "code",
   "execution_count": 12,
   "metadata": {
    "collapsed": true
   },
   "outputs": [],
   "source": [
    "def proposal_random_sample(sample):\n",
    "    return np.random.rand(len(sample))"
   ]
  },
  {
   "cell_type": "markdown",
   "metadata": {},
   "source": [
    "### Metropolis-Hastings"
   ]
  },
  {
   "cell_type": "code",
   "execution_count": 13,
   "metadata": {
    "collapsed": false
   },
   "outputs": [],
   "source": [
    "def kernel_mcmc(sample, proposal, acceptance):\n",
    "    \n",
    "    candidate = proposal(sample)\n",
    "    \n",
    "    alpha = acceptance(sample, candidate)\n",
    "    \n",
    "    if np.random.rand() < alpha:\n",
    "        return candidate\n",
    "    else:\n",
    "        return sample"
   ]
  },
  {
   "cell_type": "code",
   "execution_count": 14,
   "metadata": {
    "collapsed": true
   },
   "outputs": [],
   "source": [
    "def acceptance(sample, candidate):\n",
    "    return fitness(candidate) / fitness(sample)"
   ]
  },
  {
   "cell_type": "code",
   "execution_count": 15,
   "metadata": {
    "collapsed": false
   },
   "outputs": [
    {
     "data": {
      "image/png": "[encoded data removed]",
      "text/plain": [
       "<matplotlib.figure.Figure at 0x263b0b6dd30>"
      ]
     },
     "metadata": {},
     "output_type": "display_data"
    }
   ],
   "source": [
    "samples = []\n",
    "sample = list(np.random.rand(dimension))\n",
    "\n",
    "for i in range(iteration):\n",
    "    sample = kernel_mcmc(sample, proposal_random_mutation, acceptance)\n",
    "    samples.append(sample)\n",
    "\n",
    "plot_samples(samples[burn_in:])"
   ]
  },
  {
   "cell_type": "markdown",
   "metadata": {},
   "source": [
    "### Gibbs Sampling"
   ]
  },
  {
   "cell_type": "code",
   "execution_count": 16,
   "metadata": {
    "collapsed": true
   },
   "outputs": [],
   "source": [
    "# Gibbs Kernel specific to sum fitness function\n",
    "def kernel_gibbs_sum(sample,d):\n",
    "    candidate = list(sample)\n",
    "    \n",
    "    offset = sum(candidate) - candidate[d]\n",
    "    candidate[d] = rejection_sampling(offset)\n",
    "    \n",
    "    return candidate"
   ]
  },
  {
   "cell_type": "code",
   "execution_count": 17,
   "metadata": {
    "collapsed": false
   },
   "outputs": [
    {
     "data": {
      "image/png": "[encoded data removed]",
      "text/plain": [
       "<matplotlib.figure.Figure at 0x263b0e93128>"
      ]
     },
     "metadata": {},
     "output_type": "display_data"
    }
   ],
   "source": [
    "samples = []\n",
    "sample = np.random.rand(dimension)\n",
    "\n",
    "for i in range(iteration):\n",
    "    for d in range(dimension):    \n",
    "        sample = kernel_gibbs_sum(sample,d)\n",
    "        samples.append(sample)\n",
    "\n",
    "plot_samples(samples[burn_in:])"
   ]
  }
 ],
 "metadata": {
  "kernelspec": {
   "display_name": "Python 3",
   "language": "python",
   "name": "python3"
  },
  "language_info": {
   "codemirror_mode": {
    "name": "ipython",
    "version": 3
   },
   "file_extension": ".py",
   "mimetype": "text/x-python",
   "name": "python",
   "nbconvert_exporter": "python",
   "pygments_lexer": "ipython3",
   "version": "3.6.0"
  }
 },
 "nbformat": 4,
 "nbformat_minor": 2
}
