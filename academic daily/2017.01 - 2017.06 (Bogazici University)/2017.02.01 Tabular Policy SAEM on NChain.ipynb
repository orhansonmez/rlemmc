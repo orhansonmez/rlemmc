{
 "cells": [
  {
   "cell_type": "code",
   "execution_count": 1,
   "metadata": {
    "collapsed": true
   },
   "outputs": [],
   "source": [
    "% matplotlib inline\n",
    "import gym\n",
    "import numpy as np\n",
    "import matplotlib.pyplot as plt"
   ]
  },
  {
   "cell_type": "code",
   "execution_count": 2,
   "metadata": {
    "collapsed": false
   },
   "outputs": [
    {
     "name": "stderr",
     "output_type": "stream",
     "text": [
      "[2017-02-06 16:34:57,682] Making new env: NChain-v0\n"
     ]
    }
   ],
   "source": [
    "env = gym.make('NChain-v0')"
   ]
  },
  {
   "cell_type": "code",
   "execution_count": 23,
   "metadata": {
    "collapsed": false
   },
   "outputs": [],
   "source": [
    "T = 20\n",
    "S = 20\n",
    "I = 200\n",
    "alpha = 0.5"
   ]
  },
  {
   "cell_type": "code",
   "execution_count": 24,
   "metadata": {
    "collapsed": false
   },
   "outputs": [],
   "source": [
    "def actionSelection(policy,state):\n",
    "    return np.random.choice(env.action_space.n,p=policy[state])\n",
    "\n",
    "    # return np.random.choice(sum(np.argwhere(policy[state] == np.max(policy[state])).tolist(),[]))"
   ]
  },
  {
   "cell_type": "code",
   "execution_count": 25,
   "metadata": {
    "collapsed": false
   },
   "outputs": [],
   "source": [
    "def rollout_trajectory(policy):\n",
    "    \n",
    "    states = np.zeros(T+1, dtype=int)\n",
    "    actions = np.zeros(T, dtype=int)\n",
    "    rewards = np.zeros(T)\n",
    "\n",
    "    states[0] = env.reset()\n",
    "\n",
    "    for t in range(T):\n",
    "\n",
    "        actions[t] = actionSelection(policy,states[t])\n",
    "\n",
    "        states[t+1], rewards[t], _, _ = env.step(actions[t])\n",
    "    \n",
    "    return states, actions, rewards"
   ]
  },
  {
   "cell_type": "code",
   "execution_count": 29,
   "metadata": {
    "collapsed": false
   },
   "outputs": [],
   "source": [
    "episodeRewards = []\n",
    "Q = np.zeros((env.n,env.action_space.n))\n",
    "policy = np.ones((env.n, env.action_space.n)) / env.action_space.n\n",
    "\n",
    "learned = False\n",
    "learnedAt = None\n",
    "\n",
    "for i in range(I):\n",
    "    \n",
    "    episodeReward = 0\n",
    "    Qnew = np.zeros((env.n,env.action_space.n))\n",
    "        \n",
    "    for s in range(S):\n",
    "\n",
    "        states, actions, rewards = rollout_trajectory(policy)\n",
    "\n",
    "        for t in range(len(states)-1):\n",
    "            Qnew[states[t],actions[t]]+= sum(rewards)\n",
    "        \n",
    "        episodeReward += sum(rewards)\n",
    "    \n",
    "    # Normalize Qnew (Numberically Stable)\n",
    "    Qnew = Qnew / ( Qnew.sum(axis=1)[:,None] + + 1e-100)\n",
    "\n",
    "    # Update Q\n",
    "    Q = (1-alpha) * Q + alpha * Qnew\n",
    "    \n",
    "    # Normalize Q\n",
    "    Q = Q / Q.sum(axis=1)[:,None]\n",
    "    \n",
    "    # Calculate Policy\n",
    "    policy = Q\n",
    "    \n",
    "    if(not learned and min(policy[:,0]) > 0.8 ):\n",
    "        learned = True\n",
    "        learnedAt = i\n",
    "    \n",
    "    episodeRewards.append(episodeReward)"
   ]
  },
  {
   "cell_type": "code",
   "execution_count": 30,
   "metadata": {
    "collapsed": false
   },
   "outputs": [
    {
     "name": "stdout",
     "output_type": "stream",
     "text": [
      "[[  1.00000000e+00   2.39844209e-22]\n",
      " [  1.00000000e+00   2.00098451e-31]\n",
      " [  1.00000000e+00   4.72931973e-46]\n",
      " [  1.00000000e+00   3.12664332e-58]\n",
      " [  1.00000000e+00   1.83102682e-51]]\n"
     ]
    }
   ],
   "source": [
    "print(policy)"
   ]
  },
  {
   "cell_type": "code",
   "execution_count": 31,
   "metadata": {
    "collapsed": false
   },
   "outputs": [
    {
     "name": "stdout",
     "output_type": "stream",
     "text": [
      "Total Reward per Trajectory : 56.8435\n"
     ]
    },
    {
     "data": {
      "image/png": "[encoded data removed]",
      "text/plain": [
       "<matplotlib.figure.Figure at 0xf20750>"
      ]
     },
     "metadata": {},
     "output_type": "display_data"
    }
   ],
   "source": [
    "plt.plot(episodeRewards)\n",
    "\n",
    "if learned:\n",
    "    plt.plot([learnedAt],[episodeRewards[learnedAt]],'or',lw=5)\n",
    "    plt.vlines(learnedAt,0,episodeRewards[learnedAt],linestyle='dotted')\n",
    "\n",
    "print(\"Total Reward per Trajectory : {}\".format(sum(episodeRewards) / (I*S)))"
   ]
  }
 ],
 "metadata": {
  "kernelspec": {
   "display_name": "Python 3",
   "language": "python",
   "name": "python3"
  },
  "language_info": {
   "codemirror_mode": {
    "name": "ipython",
    "version": 3
   },
   "file_extension": ".py",
   "mimetype": "text/x-python",
   "name": "python",
   "nbconvert_exporter": "python",
   "pygments_lexer": "ipython3",
   "version": "3.6.0"
  }
 },
 "nbformat": 4,
 "nbformat_minor": 2
}
