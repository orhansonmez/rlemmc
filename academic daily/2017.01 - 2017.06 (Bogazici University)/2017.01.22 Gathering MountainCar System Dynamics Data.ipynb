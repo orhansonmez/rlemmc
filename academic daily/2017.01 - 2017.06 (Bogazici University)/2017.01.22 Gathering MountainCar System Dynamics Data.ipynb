{
 "cells": [
  {
   "cell_type": "code",
   "execution_count": 145,
   "metadata": {
    "collapsed": true
   },
   "outputs": [],
   "source": [
    "import gym\n",
    "import numpy as np"
   ]
  },
  {
   "cell_type": "code",
   "execution_count": 217,
   "metadata": {
    "collapsed": true
   },
   "outputs": [],
   "source": [
    "position_resolution = 100\n",
    "speed_resolution = 100"
   ]
  },
  {
   "cell_type": "code",
   "execution_count": 213,
   "metadata": {
    "collapsed": false
   },
   "outputs": [
    {
     "name": "stderr",
     "output_type": "stream",
     "text": [
      "[2017-01-23 01:45:00,990] Making new env: MountainCar-v0\n"
     ]
    }
   ],
   "source": [
    "env = gym.make('MountainCar-v0')"
   ]
  },
  {
   "cell_type": "code",
   "execution_count": 218,
   "metadata": {
    "collapsed": false
   },
   "outputs": [
    {
     "name": "stdout",
     "output_type": "stream",
     "text": [
      "Done!\n"
     ]
    }
   ],
   "source": [
    "dynamics = []\n",
    "for position in np.linspace(env.min_position,env.max_position,position_resolution+1):\n",
    "    for speed in np.linspace(0,env.max_speed,speed_resolution+1):\n",
    "        for action in range(0,env.action_space.n):\n",
    "            \n",
    "            state = [position,speed]\n",
    "            \n",
    "            env.state = state\n",
    "            observation, _, _, _ = env.step(action)\n",
    "            # env.render()\n",
    "            \n",
    "            point_dynamics = [list(state),action,list(observation)]\n",
    "            dynamics.append(point_dynamics)"
   ]
  },
  {
   "cell_type": "markdown",
   "metadata": {},
   "source": [
    "### Data Structure\n",
    "\n",
    "dynamics[i][0] : state (list containing 2 floats)\n",
    "\n",
    "dynamics[i][1] : action (integer)\n",
    "\n",
    "dynamics[i][2] : next_state (list containing 2 floats)"
   ]
  },
  {
   "cell_type": "code",
   "execution_count": 219,
   "metadata": {
    "collapsed": false
   },
   "outputs": [],
   "source": [
    "np.save('MountainCar-Dynamics-Grid',dynamics)"
   ]
  }
 ],
 "metadata": {
  "kernelspec": {
   "display_name": "Python 3",
   "language": "python",
   "name": "python3"
  },
  "language_info": {
   "codemirror_mode": {
    "name": "ipython",
    "version": 3
   },
   "file_extension": ".py",
   "mimetype": "text/x-python",
   "name": "python",
   "nbconvert_exporter": "python",
   "pygments_lexer": "ipython3",
   "version": "3.6.0"
  }
 },
 "nbformat": 4,
 "nbformat_minor": 2
}
